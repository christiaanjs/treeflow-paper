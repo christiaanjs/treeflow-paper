{
 "cells": [
  {
   "cell_type": "code",
   "execution_count": 1,
   "metadata": {
    "tags": [
     "parameters"
    ]
   },
   "outputs": [],
   "source": [
    "fasta_file = '../data/RSV2-reduced.fasta'\n",
    "date_regex = '[^s]*$'"
   ]
  },
  {
   "cell_type": "code",
   "execution_count": 2,
   "metadata": {
    "scrolled": true
   },
   "outputs": [
    {
     "data": {
      "text/plain": [
       "{'alpha': 1.042979,\n",
       " 'rates': {'ac': 1.0,\n",
       "  'ag': 12.053774,\n",
       "  'at': 1.0,\n",
       "  'cg': 1.0,\n",
       "  'ct': 12.053774,\n",
       "  'gt': 1.0},\n",
       " 'frequencies': [0.38778, 0.356966, 0.081073, 0.17418]}"
      ]
     },
     "execution_count": 2,
     "metadata": {},
     "output_type": "execute_result"
    }
   ],
   "source": [
    "import topology_inference\n",
    "\n",
    "raxml_tree, raxml_params = topology_inference.infer_topology_raxml(fasta_file, 'fasta', 'out', subst_model='HKY85')\n",
    "raxml_params"
   ]
  },
  {
   "cell_type": "code",
   "execution_count": 3,
   "metadata": {},
   "outputs": [
    {
     "data": {
      "text/plain": [
       "0.0022298379517620846"
      ]
     },
     "execution_count": 3,
     "metadata": {},
     "output_type": "execute_result"
    }
   ],
   "source": [
    "rooted_tree, estimated_rate = topology_inference.root_topology(fasta_file, 'fasta', 'out', date_regex, raxml_tree)\n",
    "estimated_rate"
   ]
  }
 ],
 "metadata": {
  "celltoolbar": "Tags",
  "kernelspec": {
   "display_name": "Python 3",
   "language": "python",
   "name": "python3"
  },
  "language_info": {
   "codemirror_mode": {
    "name": "ipython",
    "version": 3
   },
   "file_extension": ".py",
   "mimetype": "text/x-python",
   "name": "python",
   "nbconvert_exporter": "python",
   "pygments_lexer": "ipython3",
   "version": "3.7.6"
  }
 },
 "nbformat": 4,
 "nbformat_minor": 4
}
