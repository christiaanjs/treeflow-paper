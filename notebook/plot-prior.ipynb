{
 "cells": [
  {
   "cell_type": "code",
   "execution_count": 6,
   "id": "a1b55e2b",
   "metadata": {},
   "outputs": [
    {
     "data": {
      "text/plain": [
       "('relaxed_lognormal_conjugate',\n",
       " {'rate_loc_precision': {'normalgamma': {'loc': -8.117321296021004,\n",
       "    'precision_scale': 0.6145984625809157,\n",
       "    'concentration': 2.0264094157104164,\n",
       "    'rate': 0.055894814133092476}}})"
      ]
     },
     "execution_count": 6,
     "metadata": {},
     "output_type": "execute_result"
    }
   ],
   "source": [
    "from treeflow_pipeline.util import yaml_input\n",
    "import treeflow_pipeline.model\n",
    "\n",
    "model_file = \"../config/model.yaml\"\n",
    "model = treeflow_pipeline.model.Model(yaml_input(model_file))\n",
    "model.clock_model, model.clock_params"
   ]
  },
  {
   "cell_type": "code",
   "execution_count": 54,
   "id": "40266a66",
   "metadata": {},
   "outputs": [
    {
     "data": {
      "text/plain": [
       "{'concentration': 3.3164221870890347, 'rate': 0.3028646047813991}"
      ]
     },
     "execution_count": 54,
     "metadata": {},
     "output_type": "execute_result"
    }
   ],
   "source": [
    "import tensorflow_probability as tfp\n",
    "import treeflow.priors\n",
    "import numpy as np\n",
    "\n",
    "cov_quantiles = np.array([0.2, 0.7])\n",
    "precision_quantiles = 1.0 / np.log(np.square(cov_quantiles)+1.0)[::-1]\n",
    "precision_prior_params, res = treeflow.priors.get_params_for_quantiles(tfp.distributions.Gamma, precision_quantiles)\n",
    "precision_prior_params"
   ]
  },
  {
   "cell_type": "code",
   "execution_count": 56,
   "id": "2a059fd8",
   "metadata": {},
   "outputs": [
    {
     "data": {
      "text/plain": [
       "{'loc': -8.117321296021004,\n",
       " 'precision_scale': 0.6145984625809157,\n",
       " 'concentration': 3.3164221870890347,\n",
       " 'rate': 0.3028646047813991}"
      ]
     },
     "execution_count": 56,
     "metadata": {},
     "output_type": "execute_result"
    }
   ],
   "source": [
    "prior_params = {\n",
    "    'loc': -8.117321296021004,\n",
    "    'precision_scale': 0.6145984625809157,\n",
    "    'concentration': precision_prior_params[\"concentration\"],\n",
    "    'rate': precision_prior_params[\"rate\"]\n",
    "}\n",
    "prior_params"
   ]
  },
  {
   "cell_type": "code",
   "execution_count": 102,
   "id": "1ad65487",
   "metadata": {},
   "outputs": [
    {
     "data": {
      "application/vnd.jupyter.widget-view+json": {
       "model_id": "74e636ece8704023a785a91c44c8b224",
       "version_major": 2,
       "version_minor": 0
      },
      "text/plain": [
       "interactive(children=(FloatSlider(value=-5.814736203026958, description='loc', max=5.814736203026958, min=-17.…"
      ]
     },
     "metadata": {},
     "output_type": "display_data"
    },
    {
     "data": {
      "text/plain": [
       "<function __main__.prior_plot(loc, precision_scale)>"
      ]
     },
     "execution_count": 102,
     "metadata": {},
     "output_type": "execute_result"
    }
   ],
   "source": [
    "from ipywidgets import interact, IntSlider\n",
    "\n",
    "import matplotlib.pyplot as plt\n",
    "import seaborn as sns\n",
    "\n",
    "def prior_plot(loc, precision_scale):\n",
    "    params = {\n",
    "        'loc': loc,\n",
    "        'precision_scale': precision_scale,\n",
    "        'concentration': precision_prior_params[\"concentration\"],\n",
    "        'rate': precision_prior_params[\"rate\"]\n",
    "    }\n",
    "    \n",
    "    n_plot_samples = 10000\n",
    "    \n",
    "    dist = tfp.distributions.JointDistributionNamed(treeflow.priors.get_normal_conjugate_prior_dict(**params))\n",
    "    prior_samples = dist.sample(n_plot_samples)\n",
    "    prior_loc = prior_samples[\"loc\"].numpy()\n",
    "    prior_scale = treeflow.priors.precision_to_scale(prior_samples[\"precision\"]).numpy()\n",
    "    prior_cov = np.sqrt(np.exp(np.square(prior_scale))-1)\n",
    "    prior_mean = np.exp(prior_loc + np.square(prior_scale) / 2.0)\n",
    "\n",
    "    fig, ax = plt.subplots(figsize=(10, 10))\n",
    "\n",
    "    ax.scatter(prior_mean, prior_cov, alpha=0.5)\n",
    "    ax.set_xlabel(\"Prior mean\")\n",
    "    ax.set_ylabel(\"Prior CoV\")\n",
    "\n",
    "    ps = np.array([0.025, 0.975])\n",
    "    cov_quantiles = np.quantile(prior_cov, ps)\n",
    "    mean_quantiles = np.quantile(prior_mean, ps)\n",
    "    return dict(cov_quantiles=cov_quantiles, mean_quantiles=mean_quantiles), params\n",
    "    \n",
    "interact(\n",
    "    prior_plot,\n",
    "    loc=-8.117321296021004 + np.log(10),\n",
    "    precision_scale=0.3\n",
    ")"
   ]
  },
  {
   "cell_type": "code",
   "execution_count": 104,
   "id": "386feba2",
   "metadata": {},
   "outputs": [
    {
     "data": {
      "text/plain": [
       "({'loc': 0.06367702938213937, 'scale': 0.13341435492327347},\n",
       "       fun: 0.41134913257826833\n",
       "  hess_inv: <2x2 LbfgsInvHessProduct with dtype=float64>\n",
       "       jac: array([-1.99921818, -2.76387171])\n",
       "   message: b'CONVERGENCE: REL_REDUCTION_OF_F_<=_FACTR*EPSMCH'\n",
       "      nfev: 13\n",
       "       nit: 8\n",
       "      njev: 13\n",
       "    status: 0\n",
       "   success: True\n",
       "         x: array([0.06367703, 0.13341435]))"
      ]
     },
     "execution_count": 104,
     "metadata": {},
     "output_type": "execute_result"
    }
   ],
   "source": [
    "pop_size_quantiles = np.array([1.0, 2.0])\n",
    "treeflow.priors.get_params_for_quantiles(tfp.distributions.LogNormal, pop_size_quantiles)"
   ]
  }
 ],
 "metadata": {
  "kernelspec": {
   "display_name": "Python 3",
   "language": "python",
   "name": "python3"
  },
  "language_info": {
   "codemirror_mode": {
    "name": "ipython",
    "version": 3
   },
   "file_extension": ".py",
   "mimetype": "text/x-python",
   "name": "python",
   "nbconvert_exporter": "python",
   "pygments_lexer": "ipython3",
   "version": "3.7.9"
  }
 },
 "nbformat": 4,
 "nbformat_minor": 5
}
