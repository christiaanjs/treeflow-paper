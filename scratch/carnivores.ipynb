{
 "cells": [
  {
   "cell_type": "markdown",
   "id": "87704f8d",
   "metadata": {},
   "source": [
    "# Treeflow example - carnivores data"
   ]
  },
  {
   "cell_type": "markdown",
   "id": "44a36356",
   "metadata": {},
   "source": [
    "Dataset from **Suchard, Marc A., and Andrew Rambaut. \"Many-core algorithms for statistical phylogenetics.\" *Bioinformatics* 25.11 (2009): 1370-1376.**\n",
    "\n",
    "Sequences accessed from [Beast examples on Github](https://github.com/beast-dev/beast-mcmc/blob/v1.10.4/examples/Benchmarks/benchmark2.xml)."
   ]
  },
  {
   "cell_type": "code",
   "execution_count": 1,
   "id": "f3290579",
   "metadata": {},
   "outputs": [
    {
     "name": "stderr",
     "output_type": "stream",
     "text": [
      "2022-06-21 20:28:28.074009: W tensorflow/stream_executor/platform/default/dso_loader.cc:64] Could not load dynamic library 'libcudart.so.11.0'; dlerror: libcudart.so.11.0: cannot open shared object file: No such file or directory\n",
      "2022-06-21 20:28:28.074023: I tensorflow/stream_executor/cuda/cudart_stub.cc:29] Ignore above cudart dlerror if you do not have a GPU set up on your machine.\n"
     ]
    }
   ],
   "source": [
    "import treeflow"
   ]
  },
  {
   "cell_type": "markdown",
   "id": "02be5f3b",
   "metadata": {},
   "source": [
    "## Read input data"
   ]
  },
  {
   "cell_type": "code",
   "execution_count": 2,
   "id": "0910f049",
   "metadata": {},
   "outputs": [
    {
     "name": "stderr",
     "output_type": "stream",
     "text": [
      "2022-06-21 20:28:30.802128: W tensorflow/stream_executor/platform/default/dso_loader.cc:64] Could not load dynamic library 'libcuda.so.1'; dlerror: libcuda.so.1: cannot open shared object file: No such file or directory\n",
      "2022-06-21 20:28:30.802146: W tensorflow/stream_executor/cuda/cuda_driver.cc:269] failed call to cuInit: UNKNOWN ERROR (303)\n",
      "2022-06-21 20:28:30.802161: I tensorflow/stream_executor/cuda/cuda_diagnostics.cc:156] kernel driver does not appear to be running on this host (CS424460): /proc/driver/nvidia/version does not exist\n",
      "2022-06-21 20:28:30.802864: I tensorflow/core/platform/cpu_feature_guard.cc:151] This TensorFlow binary is optimized with oneAPI Deep Neural Network Library (oneDNN) to use the following CPU instructions in performance-critical operations:  AVX2 FMA\n",
      "To enable them in other operations, rebuild TensorFlow with the appropriate compiler flags.\n"
     ]
    },
    {
     "data": {
      "text/plain": [
       "('Puma_concolor_',\n",
       " 'Acinonyx_jubatus_',\n",
       " 'Lynx_canadensis_',\n",
       " 'Felis_silvestris_',\n",
       " 'Uncia_uncia_',\n",
       " 'Panthera_pardus_',\n",
       " 'Panthera_tigris_',\n",
       " 'Neofelis_nebulosa_',\n",
       " 'Herpestes_auropunctatus_',\n",
       " 'Leptonychotes_weddellii_',\n",
       " 'Hydrurga_leptonyx_',\n",
       " 'Ommatophoca_rossii_',\n",
       " 'Lobodon_carcinophaga_',\n",
       " 'Mirounga_leonina_',\n",
       " 'Mirounga_angustirostris_',\n",
       " 'Monachus_monachus_',\n",
       " 'Monachus_schauinslandi_',\n",
       " 'Phoca_fasciata_',\n",
       " 'Phoca_groenlandica_',\n",
       " 'Phoca_caspica_',\n",
       " 'Halichoerus_grypus_',\n",
       " 'Phoca_sibirica_',\n",
       " 'Phoca_largha_',\n",
       " 'Phoca_vitulina_',\n",
       " 'Phoca_hispida_',\n",
       " 'Cystophora_cristata_',\n",
       " 'Erignathus_barbatus_',\n",
       " 'Arctocephalus_forsteri_',\n",
       " 'Arctocephalus_australis_',\n",
       " 'Arctocephalus_townsendi_',\n",
       " 'Neophoca_cinerea_',\n",
       " 'Phocarctos_hookeri_',\n",
       " 'Arctocephalus_pusillus_',\n",
       " 'Otaria_byronia_',\n",
       " 'Zalophus_californianus_',\n",
       " 'Eumetopias_jubatus_',\n",
       " 'Callorhinus_ursinus_',\n",
       " 'Odobenus_rosmarus_',\n",
       " 'Enhydra_lutris_',\n",
       " 'Lontra_canadensis_',\n",
       " 'Mustela_vison_',\n",
       " 'Martes_melampus_',\n",
       " 'Martes_americana_',\n",
       " 'Gulo_gulo_',\n",
       " 'Meles_meles_',\n",
       " 'Taxidea_taxus_',\n",
       " 'Procyon_lotor_',\n",
       " 'Mephitis_mephitis_',\n",
       " 'Spilogale_putorius_',\n",
       " 'Ailurus_fulgens_',\n",
       " 'Ursus_thibetanus_',\n",
       " 'Ursus_americanus_',\n",
       " 'Helarctos_malayanus_',\n",
       " 'Ursus_arctos_',\n",
       " 'Ursus_maritimus_',\n",
       " 'Melursus_ursinus_',\n",
       " 'Tremarctos_ornatus_',\n",
       " 'Ailuropoda_melanoleuca_',\n",
       " 'Canis_latrans_',\n",
       " 'Canis_lupus_',\n",
       " 'Alopex_lagopus_',\n",
       " 'Vulpes_vulpes_')"
      ]
     },
     "execution_count": 2,
     "metadata": {},
     "output_type": "execute_result"
    }
   ],
   "source": [
    "tree = treeflow.convert_tree_to_tensor(treeflow.parse_newick(\"demo-data/carnivores.newick\"))\n",
    "tree.taxon_set"
   ]
  },
  {
   "cell_type": "code",
   "execution_count": 3,
   "id": "048851a4",
   "metadata": {},
   "outputs": [
    {
     "data": {
      "text/plain": [
       "('Acinonyx_jubatus_',\n",
       " 'Puma_concolor_',\n",
       " 'Lynx_canadensis_',\n",
       " 'Felis_silvestris_',\n",
       " 'Neofelis_nebulosa_',\n",
       " 'Panthera_pardus_',\n",
       " 'Uncia_uncia_',\n",
       " 'Panthera_tigris_',\n",
       " 'Herpestes_auropunctatus_',\n",
       " 'Ailuropoda_melanoleuca_',\n",
       " 'Helarctos_malayanus_',\n",
       " 'Ursus_americanus_',\n",
       " 'Ursus_thibetanus_',\n",
       " 'Ursus_arctos_',\n",
       " 'Ursus_maritimus_',\n",
       " 'Melursus_ursinus_',\n",
       " 'Tremarctos_ornatus_',\n",
       " 'Ailurus_fulgens_',\n",
       " 'Mephitis_mephitis_',\n",
       " 'Spilogale_putorius_',\n",
       " 'Enhydra_lutris_',\n",
       " 'Lontra_canadensis_',\n",
       " 'Mustela_vison_',\n",
       " 'Gulo_gulo_',\n",
       " 'Martes_americana_',\n",
       " 'Martes_melampus_',\n",
       " 'Meles_meles_',\n",
       " 'Taxidea_taxus_',\n",
       " 'Procyon_lotor_',\n",
       " 'Arctocephalus_australis_',\n",
       " 'Arctocephalus_forsteri_',\n",
       " 'Arctocephalus_townsendi_',\n",
       " 'Neophoca_cinerea_',\n",
       " 'Phocarctos_hookeri_',\n",
       " 'Arctocephalus_pusillus_',\n",
       " 'Otaria_byronia_',\n",
       " 'Eumetopias_jubatus_',\n",
       " 'Zalophus_californianus_',\n",
       " 'Callorhinus_ursinus_',\n",
       " 'Odobenus_rosmarus_',\n",
       " 'Cystophora_cristata_',\n",
       " 'Halichoerus_grypus_',\n",
       " 'Phoca_caspica_',\n",
       " 'Phoca_sibirica_',\n",
       " 'Phoca_largha_',\n",
       " 'Phoca_vitulina_',\n",
       " 'Phoca_hispida_',\n",
       " 'Phoca_fasciata_',\n",
       " 'Phoca_groenlandica_',\n",
       " 'Erignathus_barbatus_',\n",
       " 'Hydrurga_leptonyx_',\n",
       " 'Leptonychotes_weddellii_',\n",
       " 'Ommatophoca_rossii_',\n",
       " 'Lobodon_carcinophaga_',\n",
       " 'Mirounga_angustirostris_',\n",
       " 'Mirounga_leonina_',\n",
       " 'Monachus_monachus_',\n",
       " 'Monachus_schauinslandi_',\n",
       " 'Alopex_lagopus_',\n",
       " 'Vulpes_vulpes_',\n",
       " 'Canis_latrans_',\n",
       " 'Canis_lupus_')"
      ]
     },
     "execution_count": 3,
     "metadata": {},
     "output_type": "execute_result"
    }
   ],
   "source": [
    "beast_tree = treeflow.convert_tree_to_tensor(treeflow.parse_newick(\"../scratch/carnivores-beast.newick\"))\n",
    "mapping_string = \"\"\"\n",
    "\t\t   1 Acinonyx_jubatus_,\n",
    "\t\t   2 Ailuropoda_melanoleuca_,\n",
    "\t\t   3 Ailurus_fulgens_,\n",
    "\t\t   4 Alopex_lagopus_,\n",
    "\t\t   5 Arctocephalus_australis_,\n",
    "\t\t   6 Arctocephalus_forsteri_,\n",
    "\t\t   7 Arctocephalus_pusillus_,\n",
    "\t\t   8 Arctocephalus_townsendi_,\n",
    "\t\t   9 Callorhinus_ursinus_,\n",
    "\t\t  10 Canis_latrans_,\n",
    "\t\t  11 Canis_lupus_,\n",
    "\t\t  12 Cystophora_cristata_,\n",
    "\t\t  13 Enhydra_lutris_,\n",
    "\t\t  14 Erignathus_barbatus_,\n",
    "\t\t  15 Eumetopias_jubatus_,\n",
    "\t\t  16 Felis_silvestris_,\n",
    "\t\t  17 Gulo_gulo_,\n",
    "\t\t  18 Halichoerus_grypus_,\n",
    "\t\t  19 Helarctos_malayanus_,\n",
    "\t\t  20 Herpestes_auropunctatus_,\n",
    "\t\t  21 Hydrurga_leptonyx_,\n",
    "\t\t  22 Leptonychotes_weddellii_,\n",
    "\t\t  23 Lobodon_carcinophaga_,\n",
    "\t\t  24 Lontra_canadensis_,\n",
    "\t\t  25 Lynx_canadensis_,\n",
    "\t\t  26 Martes_americana_,\n",
    "\t\t  27 Martes_melampus_,\n",
    "\t\t  28 Meles_meles_,\n",
    "\t\t  29 Melursus_ursinus_,\n",
    "\t\t  30 Mephitis_mephitis_,\n",
    "\t\t  31 Mirounga_angustirostris_,\n",
    "\t\t  32 Mirounga_leonina_,\n",
    "\t\t  33 Monachus_monachus_,\n",
    "\t\t  34 Monachus_schauinslandi_,\n",
    "\t\t  35 Mustela_vison_,\n",
    "\t\t  36 Neofelis_nebulosa_,\n",
    "\t\t  37 Neophoca_cinerea_,\n",
    "\t\t  38 Odobenus_rosmarus_,\n",
    "\t\t  39 Ommatophoca_rossii_,\n",
    "\t\t  40 Otaria_byronia_,\n",
    "\t\t  41 Panthera_pardus_,\n",
    "\t\t  42 Panthera_tigris_,\n",
    "\t\t  43 Phoca_caspica_,\n",
    "\t\t  44 Phoca_fasciata_,\n",
    "\t\t  45 Phoca_groenlandica_,\n",
    "\t\t  46 Phoca_hispida_,\n",
    "\t\t  47 Phoca_largha_,\n",
    "\t\t  48 Phoca_sibirica_,\n",
    "\t\t  49 Phoca_vitulina_,\n",
    "\t\t  50 Phocarctos_hookeri_,\n",
    "\t\t  51 Procyon_lotor_,\n",
    "\t\t  52 Puma_concolor_,\n",
    "\t\t  53 Spilogale_putorius_,\n",
    "\t\t  54 Taxidea_taxus_,\n",
    "\t\t  55 Tremarctos_ornatus_,\n",
    "\t\t  56 Uncia_uncia_,\n",
    "\t\t  57 Ursus_americanus_,\n",
    "\t\t  58 Ursus_arctos_,\n",
    "\t\t  59 Ursus_maritimus_,\n",
    "\t\t  60 Ursus_thibetanus_,\n",
    "\t\t  61 Vulpes_vulpes_,\n",
    "\t\t  62 Zalophus_californianus_\"\"\"\n",
    "mapping_strings = mapping_string.split()\n",
    "i = 0\n",
    "mapping = {}\n",
    "while i < len(mapping_strings):\n",
    "    key = mapping_string[i]\n",
    "    mapping[mapping_strings[i]] = mapping_strings[i+1]\n",
    "    i += 2\n",
    "new_taxon_set = treeflow.TupleTaxonSet([mapping[x].strip(\",\") for x in beast_tree.taxon_set])\n",
    "beast_tree.topology._taxon_set = new_taxon_set\n",
    "tree = beast_tree\n",
    "new_taxon_set"
   ]
  },
  {
   "cell_type": "code",
   "execution_count": 4,
   "id": "17586046",
   "metadata": {},
   "outputs": [
    {
     "data": {
      "text/plain": [
       "WeightedAlignment(taxon_count=62, pattern_count=5565)"
      ]
     },
     "execution_count": 4,
     "metadata": {},
     "output_type": "execute_result"
    }
   ],
   "source": [
    "alignment = treeflow.Alignment(\"demo-data/carnivores.fasta\").get_compressed_alignment()\n",
    "alignment"
   ]
  },
  {
   "cell_type": "markdown",
   "id": "da61ff27",
   "metadata": {},
   "source": [
    "Calibrations from **Hassanin, Alexandre, et al. \"Evolutionary history of Carnivora (Mammalia, Laurasiatheria) inferred from mitochondrial genomes.\" *PloS one* 16.2 (2021): e0240770.**"
   ]
  },
  {
   "cell_type": "code",
   "execution_count": 5,
   "id": "47b32e99",
   "metadata": {},
   "outputs": [
    {
     "data": {
      "text/plain": [
       "MRCACalibrationSet(MRCACalibration(name='Guloninae, Mustilinae', range=(12.2, 27.6)), MRCACalibration(name='Felidae', range=(14, 20)), MRCACalibration(name='Pinnipedia', range=(19, 34)))"
      ]
     },
     "execution_count": 5,
     "metadata": {},
     "output_type": "execute_result"
    }
   ],
   "source": [
    "import yaml\n",
    "with open(\"demo-data/carnivore-calibrations.yaml\") as f:\n",
    "    calibration_dict = yaml.safe_load(f)\n",
    "    \n",
    "calibration_set = treeflow.MRCACalibrationSet(calibration_dict)\n",
    "calibration_set"
   ]
  },
  {
   "cell_type": "markdown",
   "id": "82fdbeaf",
   "metadata": {},
   "source": [
    "## Model specification"
   ]
  },
  {
   "cell_type": "markdown",
   "id": "5268a2fc",
   "metadata": {},
   "source": [
    "### Single kappa parameter across tree"
   ]
  },
  {
   "cell_type": "code",
   "execution_count": 6,
   "id": "3488af68",
   "metadata": {},
   "outputs": [
    {
     "name": "stderr",
     "output_type": "stream",
     "text": [
      "/home/cswa648/dev/treeflow/treeflow/distributions/tree/birthdeath/birth_death_contemporary_sampling.py:69: UserWarning: Dummy sampling\n",
      "  warnings.warn(\"Dummy sampling\")\n",
      "/home/cswa648/dev/treeflow/treeflow/tf_util/attrs.py:7: UserWarning: Temporary hotfix\n",
      "  warnings.warn(\"Temporary hotfix\")\n"
     ]
    },
    {
     "name": "stdout",
     "output_type": "stream",
     "text": [
      "WARNING:tensorflow:@custom_gradient grad_fn has 'variables' in signature, but no ResourceVariables were used on the forward pass.\n",
      "WARNING:tensorflow:@custom_gradient grad_fn has 'variables' in signature, but no ResourceVariables were used on the forward pass.\n"
     ]
    },
    {
     "name": "stderr",
     "output_type": "stream",
     "text": [
      "/home/cswa648/dev/treeflow/treeflow/distributions/leaf_ctmc.py:62: UserWarning: Dummy sampling of alignment\n",
      "  warnings.warn(\"Dummy sampling of alignment\")\n"
     ]
    },
    {
     "data": {
      "text/plain": [
       "dict_keys(['birth_rate', 'tree', 'site_gamma_shape', 'kappa', 'frequencies'])"
      ]
     },
     "execution_count": 6,
     "metadata": {},
     "output_type": "execute_result"
    }
   ],
   "source": [
    "import tensorflow as tf\n",
    "import tensorflow_probability as tfp\n",
    "from treeflow import float_constant as c\n",
    "from treeflow.evolution.substitution import HKY, get_transition_probabilities_tree\n",
    "from tensorflow_probability.python.distributions import (\n",
    "    JointDistributionNamed,\n",
    "    Gamma,\n",
    "    LogNormal,\n",
    "    Dirichlet\n",
    ")\n",
    "from treeflow.distributions import (\n",
    "    DiscretizedDistribution,\n",
    "    DiscreteParameterMixture,\n",
    "    LeafCTMC,\n",
    "    SampleWeighted,\n",
    "    Yule\n",
    ")\n",
    "\n",
    "\n",
    "site_category_count = 4\n",
    "pattern_counts = alignment.get_weights_tensor()\n",
    "subst_model = HKY()\n",
    "\n",
    "def build_sequence_dist(tree, kappa, frequencies, site_gamma_shape):\n",
    "    unrooted_tree = tree.get_unrooted_tree()\n",
    "    site_rate_distribution = DiscretizedDistribution(\n",
    "        category_count=site_category_count,\n",
    "        distribution=Gamma(concentration=site_gamma_shape, rate=site_gamma_shape),\n",
    "    )\n",
    "    transition_probs_tree = get_transition_probabilities_tree(\n",
    "        unrooted_tree,\n",
    "        subst_model,\n",
    "        rate_categories=site_rate_distribution.normalised_support,\n",
    "        frequencies=frequencies,\n",
    "        kappa=kappa\n",
    "    )\n",
    "    return SampleWeighted(\n",
    "        DiscreteParameterMixture(\n",
    "            site_rate_distribution,\n",
    "            LeafCTMC(\n",
    "                transition_probs_tree,\n",
    "                tf.expand_dims(frequencies, -2),\n",
    "            ),\n",
    "        ),\n",
    "        sample_shape=alignment.site_count,\n",
    "        weights=pattern_counts\n",
    "    )\n",
    "    \n",
    "\n",
    "base_model = tfp.distributions.JointDistributionNamed(dict(\n",
    "    birth_rate=LogNormal(c(1.0), c(1.5)),\n",
    "    tree=lambda birth_rate: Yule(tree.taxon_count, birth_rate, name=\"tree\"),\n",
    "    kappa=LogNormal(c(0.0), c(2.0)),\n",
    "    site_gamma_shape=LogNormal(c(0.0), c(1.0)),\n",
    "    frequencies=Dirichlet(c([2.0, 2.0, 2.0, 2.0])),\n",
    "    sequences=build_sequence_dist\n",
    "))\n",
    "base_model_pinned = base_model.experimental_pin(sequences=alignment.get_encoded_sequence_tensor(tree.taxon_set))\n",
    "prior_samples = base_model_pinned.sample_unpinned()\n",
    "prior_samples.keys()"
   ]
  },
  {
   "cell_type": "code",
   "execution_count": 9,
   "id": "2d66153f",
   "metadata": {},
   "outputs": [
    {
     "name": "stderr",
     "output_type": "stream",
     "text": [
      "/home/cswa648/dev/treeflow/treeflow/tf_util/attrs.py:7: UserWarning: Temporary hotfix\n",
      "  warnings.warn(\"Temporary hotfix\")\n"
     ]
    },
    {
     "name": "stdout",
     "output_type": "stream",
     "text": [
      "WARNING:tensorflow:@custom_gradient grad_fn has 'variables' in signature, but no ResourceVariables were used on the forward pass.\n",
      "WARNING:tensorflow:@custom_gradient grad_fn has 'variables' in signature, but no ResourceVariables were used on the forward pass.\n",
      "WARNING:tensorflow:@custom_gradient grad_fn has 'variables' in signature, but no ResourceVariables were used on the forward pass.\n",
      "WARNING:tensorflow:@custom_gradient grad_fn has 'variables' in signature, but no ResourceVariables were used on the forward pass.\n",
      "WARNING:tensorflow:@custom_gradient grad_fn has 'variables' in signature, but no ResourceVariables were used on the forward pass.\n",
      "WARNING:tensorflow:@custom_gradient grad_fn has 'variables' in signature, but no ResourceVariables were used on the forward pass.\n",
      "CPU times: user 7h 51min 10s, sys: 44min 33s, total: 8h 35min 43s\n",
      "Wall time: 57min 48s\n"
     ]
    },
    {
     "data": {
      "text/plain": [
       "[<matplotlib.lines.Line2D at 0x7fb58c54c040>]"
      ]
     },
     "execution_count": 9,
     "metadata": {},
     "output_type": "execute_result"
    },
    {
     "data": {
      "image/png": "[encoded data removed]",
      "text/plain": [
       "<Figure size 432x288 with 1 Axes>"
      ]
     },
     "metadata": {
      "needs_background": "light"
     },
     "output_type": "display_data"
    }
   ],
   "source": [
    "%%time\n",
    "from treeflow.vi import fit_fixed_topology_variational_approximation\n",
    "import matplotlib.pyplot as plt\n",
    "\n",
    "optimizer = tf.optimizers.Adam()\n",
    "num_steps= 5000\n",
    "base_approx, (base_loss, base_vars) = fit_fixed_topology_variational_approximation(\n",
    "    base_model_pinned,\n",
    "    topologies=dict(tree=tree.topology),\n",
    "    optimizer=optimizer,\n",
    "    num_steps=num_steps,\n",
    "    trace_fn= lambda x: (x.loss, x.parameters)\n",
    ")\n",
    "plt.plot(base_loss)"
   ]
  },
  {
   "cell_type": "code",
   "execution_count": 43,
   "id": "315b96ed",
   "metadata": {},
   "outputs": [
    {
     "data": {
      "text/plain": [
       "(<tf.Variable 'Variable:0' shape=(1,) dtype=float64, numpy=array([1.16263581])>,\n",
       " <tf.Variable 'Variable:0' shape=(61,) dtype=float64, numpy=\n",
       " array([ 0.85540952,  2.20643827,  0.95070931,  1.12556031,  0.55634178,\n",
       "         1.2276399 , -0.48604296,  0.02665501,  1.33512476,  2.21472491,\n",
       "        -1.5922794 ,  2.39989744, -0.32862164,  1.18035041, -0.21015175,\n",
       "        -0.21712297,  2.20217711,  1.32565655,  1.1764474 , -1.43635806,\n",
       "         0.7619984 ,  1.05260041,  1.65090904,  2.14006365,  1.79961901,\n",
       "         2.59608059, -0.56690727,  1.15843805,  2.76331542,  2.07560693,\n",
       "         3.01290572,  1.66953505,  0.8617562 ,  0.60091185, -0.31940366,\n",
       "         1.03861557,  2.4360571 ,  2.69201157,  0.11406406,  1.3389898 ,\n",
       "        -0.483157  ,  0.91245147,  0.57363585,  1.09566117,  1.23080532,\n",
       "         0.54117357,  1.68369976,  1.24377422, -1.2145578 ,  1.10704769,\n",
       "         2.0449759 ,  1.2351995 , -0.13311391,  1.50890527,  1.6865685 ,\n",
       "         0.79243051, -0.59967854, -1.79829315, -0.91867227,  2.88159799,\n",
       "         0.39632346])>,\n",
       " <tf.Variable 'Variable:0' shape=(1,) dtype=float64, numpy=array([-0.01451856])>,\n",
       " <tf.Variable 'Variable:0' shape=(1,) dtype=float64, numpy=array([3.37231855])>,\n",
       " <tf.Variable 'Variable:0' shape=(3,) dtype=float64, numpy=array([ 0.63477832,  0.37484581, -1.04128703])>)"
      ]
     },
     "execution_count": 43,
     "metadata": {},
     "output_type": "execute_result"
    }
   ],
   "source": [
    "base_approx.trainable_variables"
   ]
  },
  {
   "cell_type": "code",
   "execution_count": 36,
   "id": "6770cc78",
   "metadata": {},
   "outputs": [
    {
     "data": {
      "text/plain": [
       "(<tf.Tensor: shape=(1,), dtype=float64, numpy=array([-4.77873746])>,\n",
       " <tf.Tensor: shape=(61,), dtype=float64, numpy=\n",
       " array([-1.02197257e+01, -3.16384003e+01, -1.36247263e+02, -2.53022562e+01,\n",
       "        -4.73240201e+01, -1.08155021e+02, -7.82999283e+02, -9.23953030e+02,\n",
       "         1.45437648e+00, -1.36831420e+01, -7.61468989e+00, -2.07107945e+01,\n",
       "        -1.98882150e+02, -1.42016969e+02, -5.51878686e+02, -1.45413540e+02,\n",
       "        -6.76001914e+01, -3.90292393e+00,  8.52921164e+00, -5.57390853e+01,\n",
       "        -1.03739142e+02, -1.32746595e+02, -1.96794921e+02, -2.64666677e+02,\n",
       "        -3.48961366e+02, -2.58228868e+02, -2.25272453e+01, -3.36215843e+01,\n",
       "        -5.98770013e+00, -2.87015850e+01, -2.11934824e+01, -9.32090014e+01,\n",
       "        -3.28586968e+01, -3.22899172e+02, -6.04243307e+02, -3.79852881e+02,\n",
       "         2.08093492e+00, -4.99148986e+00, -1.76585817e+01, -5.96845941e+00,\n",
       "        -1.32117858e+02, -8.17770171e+00, -9.01821243e+01, -1.63992772e+02,\n",
       "        -1.81864516e+02, -1.63433823e+01, -1.47521165e+00, -7.11227599e+01,\n",
       "        -3.85156351e+01, -9.01851606e+01, -2.05619850e+01, -2.12930381e+02,\n",
       "        -9.92575138e+02, -8.35759430e+02, -1.22636358e+03, -3.12946092e+03,\n",
       "        -9.87755551e+01, -4.92682897e+01, -4.02647556e+02, -6.29719408e+02,\n",
       "        -1.72189845e+04])>,\n",
       " <tf.Tensor: shape=(1,), dtype=float64, numpy=array([-26640.72156971])>,\n",
       " <tf.Tensor: shape=(1,), dtype=float64, numpy=array([108.93700634])>,\n",
       " <tf.Tensor: shape=(3,), dtype=float64, numpy=array([-6823.70156137, -1140.32287541,  2960.85188909])>)"
      ]
     },
     "execution_count": 36,
     "metadata": {},
     "output_type": "execute_result"
    }
   ],
   "source": [
    "trainable_vars = base_approx.trainable_variables\n",
    "sequences_encoded = alignment.get_encoded_sequence_tensor(tree.taxon_set)\n",
    "with tf.GradientTape() as t:\n",
    "    for var in trainable_vars:\n",
    "        t.watch(var)\n",
    "        sample = base_approx.sample()\n",
    "        res = base_model.log_prob_parts(dict(**sample, sequences=sequences_encoded))\n",
    "t.gradient(res, trainable_vars)"
   ]
  },
  {
   "cell_type": "code",
   "execution_count": 15,
   "id": "2f8ff4f2",
   "metadata": {},
   "outputs": [
    {
     "data": {
      "text/plain": [
       "[<matplotlib.lines.Line2D at 0x7fb58cbfa6e0>]"
      ]
     },
     "execution_count": 15,
     "metadata": {},
     "output_type": "execute_result"
    },
    {
     "data": {
      "image/png": "[encoded data removed]",
      "text/plain": [
       "<Figure size 432x288 with 1 Axes>"
      ]
     },
     "metadata": {
      "needs_background": "light"
     },
     "output_type": "display_data"
    }
   ],
   "source": [
    "plt.plot(base_vars[6][:, -1].numpy())"
   ]
  },
  {
   "cell_type": "code",
   "execution_count": 22,
   "id": "9c5fc2f9",
   "metadata": {},
   "outputs": [
    {
     "data": {
      "text/plain": [
       "[<matplotlib.lines.Line2D at 0x7fb58ccc9840>]"
      ]
     },
     "execution_count": 22,
     "metadata": {},
     "output_type": "execute_result"
    },
    {
     "data": {
      "image/png": "[encoded data removed]",
      "text/plain": [
       "<Figure size 432x288 with 1 Axes>"
      ]
     },
     "metadata": {
      "needs_background": "light"
     },
     "output_type": "display_data"
    }
   ],
   "source": [
    "plt.plot(base_vars[1][:, -1].numpy())"
   ]
  },
  {
   "cell_type": "code",
   "execution_count": 18,
   "id": "2b09a016",
   "metadata": {},
   "outputs": [
    {
     "data": {
      "text/plain": [
       "<tf.Tensor: shape=(), dtype=float32, numpy=0.0>"
      ]
     },
     "execution_count": 18,
     "metadata": {},
     "output_type": "execute_result"
    }
   ],
   "source": [
    "tf.math.log(1.0)"
   ]
  },
  {
   "cell_type": "code",
   "execution_count": 28,
   "id": "1aaa43b3",
   "metadata": {},
   "outputs": [
    {
     "data": {
      "text/plain": [
       "<tf.Tensor: shape=(), dtype=float64, numpy=0.4979423347646789>"
      ]
     },
     "execution_count": 28,
     "metadata": {},
     "output_type": "execute_result"
    }
   ],
   "source": [
    "beast_tree.node_heights[-1]"
   ]
  },
  {
   "cell_type": "code",
   "execution_count": 25,
   "id": "432ca086",
   "metadata": {},
   "outputs": [
    {
     "name": "stderr",
     "output_type": "stream",
     "text": [
      "/home/cswa648/dev/treeflow/treeflow/tf_util/attrs.py:7: UserWarning: Temporary hotfix\n",
      "  warnings.warn(\"Temporary hotfix\")\n",
      "/home/cswa648/dev/treeflow/treeflow/distributions/tree/birthdeath/birth_death_contemporary_sampling.py:69: UserWarning: Dummy sampling\n",
      "  warnings.warn(\"Dummy sampling\")\n"
     ]
    },
    {
     "data": {
      "text/plain": [
       "<matplotlib.legend.Legend at 0x7fb58c627670>"
      ]
     },
     "execution_count": 25,
     "metadata": {},
     "output_type": "execute_result"
    },
    {
     "data": {
      "image/png": "[encoded data removed]",
      "text/plain": [
       "<Figure size 432x288 with 1 Axes>"
      ]
     },
     "metadata": {
      "needs_background": "light"
     },
     "output_type": "display_data"
    }
   ],
   "source": [
    "n_samples = 1000\n",
    "base_samples = base_approx.sample(n_samples)\n",
    "prior_samples = base_model_pinned.sample_unpinned(n_samples)\n",
    "\n",
    "plt.hist(base_samples[\"kappa\"].numpy(), label=\"Posterior\", density=True)\n",
    "plt.legend()"
   ]
  },
  {
   "cell_type": "code",
   "execution_count": 27,
   "id": "e1c1f857",
   "metadata": {},
   "outputs": [
    {
     "data": {
      "text/plain": [
       "(array([  7.,  35., 118., 195., 246., 204., 140.,  44.,   9.,   2.]),\n",
       " array([1.44476158, 1.45376425, 1.46276693, 1.4717696 , 1.48077227,\n",
       "        1.48977495, 1.49877762, 1.50778029, 1.51678297, 1.52578564,\n",
       "        1.53478831]),\n",
       " <BarContainer object of 10 artists>)"
      ]
     },
     "execution_count": 27,
     "metadata": {},
     "output_type": "execute_result"
    },
    {
     "data": {
      "image/png": "[encoded data removed]",
      "text/plain": [
       "<Figure size 432x288 with 1 Axes>"
      ]
     },
     "metadata": {
      "needs_background": "light"
     },
     "output_type": "display_data"
    }
   ],
   "source": [
    "plt.hist(base_samples[\"tree\"].node_heights[:, -1].numpy())"
   ]
  },
  {
   "cell_type": "code",
   "execution_count": 33,
   "id": "03b47c5c",
   "metadata": {},
   "outputs": [
    {
     "data": {
      "text/plain": [
       "<tf.Tensor: shape=(1000, 122), dtype=float64, numpy=\n",
       "array([[0.13899349, 0.13899349, 0.17677995, ..., 0.3368649 , 0.68281019,\n",
       "        0.0483453 ],\n",
       "       [0.14295028, 0.14295028, 0.18536102, ..., 0.34314651, 0.67218479,\n",
       "        0.04721869],\n",
       "       [0.1420228 , 0.1420228 , 0.18003809, ..., 0.33968257, 0.66912872,\n",
       "        0.04600058],\n",
       "       ...,\n",
       "       [0.12980427, 0.12980427, 0.16675469, ..., 0.33853908, 0.68480426,\n",
       "        0.03562656],\n",
       "       [0.14232492, 0.14232492, 0.17743752, ..., 0.34363769, 0.6811345 ,\n",
       "        0.03315829],\n",
       "       [0.1432013 , 0.1432013 , 0.17916149, ..., 0.33282607, 0.69392304,\n",
       "        0.04504965]])>"
      ]
     },
     "execution_count": 33,
     "metadata": {},
     "output_type": "execute_result"
    }
   ],
   "source": [
    "base_tree_samples.branch_lengths"
   ]
  },
  {
   "cell_type": "code",
   "execution_count": 28,
   "id": "99dc0711",
   "metadata": {},
   "outputs": [],
   "source": [
    "from treeflow.tree.io import write_tensor_trees\n",
    "from treeflow.model.io import write_samples_to_file\n",
    "\n",
    "base_out_samples = dict(base_samples)\n",
    "base_tree_samples = base_out_samples.pop(\"tree\")\n",
    "write_tensor_trees(\n",
    "    \"demo-data/carnivores.newick\", base_tree_samples.branch_lengths, \"demo-out/carnivores-base-trees.nexus\"\n",
    ")\n",
    "write_samples_to_file(\n",
    "    base_samples, base_model_pinned, \"demo-out/carnivores-base-samples.csv\", vars=base_out_samples.keys()\n",
    ")"
   ]
  },
  {
   "cell_type": "markdown",
   "id": "11863a09",
   "metadata": {},
   "source": [
    "### Per site kappa parameter"
   ]
  },
  {
   "cell_type": "code",
   "execution_count": 11,
   "id": "5e5bdff0",
   "metadata": {},
   "outputs": [
    {
     "name": "stdout",
     "output_type": "stream",
     "text": [
      "WARNING:tensorflow:@custom_gradient grad_fn has 'variables' in signature, but no ResourceVariables were used on the forward pass.\n",
      "WARNING:tensorflow:@custom_gradient grad_fn has 'variables' in signature, but no ResourceVariables were used on the forward pass.\n"
     ]
    },
    {
     "name": "stderr",
     "output_type": "stream",
     "text": [
      "/home/cswa648/dev/treeflow/treeflow/distributions/leaf_ctmc.py:62: UserWarning: Dummy sampling of alignment\n",
      "  warnings.warn(\"Dummy sampling of alignment\")\n"
     ]
    },
    {
     "data": {
      "text/plain": [
       "dict_keys(['birth_rate', 'tree', 'site_gamma_shape', 'kappa', 'frequencies'])"
      ]
     },
     "execution_count": 11,
     "metadata": {},
     "output_type": "execute_result"
    }
   ],
   "source": [
    "def build_sequence_dist_alt(tree, kappa, frequencies, site_gamma_shape):\n",
    "    # kappa has shape (..., n_branches)\n",
    "    unrooted_tree = tree.get_unrooted_tree()\n",
    "    site_rate_distribution = DiscretizedDistribution(\n",
    "        category_count=site_category_count,\n",
    "        distribution=tfp.distributions.Gamma(concentration=site_gamma_shape, rate=site_gamma_shape),\n",
    "    )\n",
    "    frequencies_b = tf.broadcast_to(tf.expand_dims(frequencies, -2), kappa.shape + (4,))\n",
    "    transition_probs_tree = get_transition_probabilities_tree(\n",
    "        unrooted_tree,\n",
    "        subst_model,\n",
    "        rate_categories=site_rate_distribution.normalised_support,\n",
    "        frequencies=frequencies_b,\n",
    "        kappa=kappa,\n",
    "        inner_batch_rank=1,\n",
    "        batch_rank=-1 # Don't add a batch dimension for branches\n",
    "    )\n",
    "    return SampleWeighted(\n",
    "        DiscreteParameterMixture(\n",
    "            site_rate_distribution,\n",
    "            LeafCTMC(\n",
    "                transition_probs_tree,\n",
    "                tf.expand_dims(frequencies, -2),\n",
    "            ),\n",
    "        ),\n",
    "        sample_shape=alignment.site_count,\n",
    "        weights=pattern_counts\n",
    "    )\n",
    "alt_model = tfp.distributions.JointDistributionNamed(dict(\n",
    "    birth_rate=tfp.distributions.LogNormal(c(1.0), c(1.5)),\n",
    "    tree=lambda birth_rate: treeflow.distributions.Yule(tree.taxon_count, birth_rate, name=\"tree\"),\n",
    "    kappa=tfp.distributions.Sample(tfp.distributions.LogNormal(c(0.0), c(2.0)), tree.branch_lengths.shape),\n",
    "    site_gamma_shape=tfp.distributions.LogNormal(c(0.0), c(1.0)),\n",
    "    frequencies=tfp.distributions.Dirichlet(c([2.0, 2.0, 2.0, 2.0])),\n",
    "    sequences=build_sequence_dist_alt\n",
    "))\n",
    "alt_model_pinned = alt_model.experimental_pin(sequences=alignment.get_encoded_sequence_tensor(tree.taxon_set))\n",
    "prior_samples = alt_model_pinned.sample_unpinned()\n",
    "prior_samples.keys()"
   ]
  },
  {
   "cell_type": "code",
   "execution_count": 12,
   "id": "6e5dd467",
   "metadata": {},
   "outputs": [
    {
     "name": "stdout",
     "output_type": "stream",
     "text": [
      "WARNING:tensorflow:@custom_gradient grad_fn has 'variables' in signature, but no ResourceVariables were used on the forward pass.\n",
      "WARNING:tensorflow:@custom_gradient grad_fn has 'variables' in signature, but no ResourceVariables were used on the forward pass.\n",
      "WARNING:tensorflow:@custom_gradient grad_fn has 'variables' in signature, but no ResourceVariables were used on the forward pass.\n",
      "WARNING:tensorflow:@custom_gradient grad_fn has 'variables' in signature, but no ResourceVariables were used on the forward pass.\n",
      "WARNING:tensorflow:@custom_gradient grad_fn has 'variables' in signature, but no ResourceVariables were used on the forward pass.\n",
      "WARNING:tensorflow:@custom_gradient grad_fn has 'variables' in signature, but no ResourceVariables were used on the forward pass.\n"
     ]
    },
    {
     "ename": "KeyboardInterrupt",
     "evalue": "",
     "output_type": "error",
     "traceback": [
      "\u001b[0;31m---------------------------------------------------------------------------\u001b[0m",
      "\u001b[0;31mKeyboardInterrupt\u001b[0m                         Traceback (most recent call last)",
      "File \u001b[0;32m<timed exec>:1\u001b[0m, in \u001b[0;36m<module>\u001b[0;34m\u001b[0m\n",
      "File \u001b[0;32m~/dev/treeflow/treeflow/vi/fixed_topology_advi.py:39\u001b[0m, in \u001b[0;36mfit_fixed_topology_variational_approximation\u001b[0;34m(model, topologies, optimizer, num_steps, trace_fn, convergence_criterion, init_loc, return_full_length_trace, **vi_kwargs)\u001b[0m\n\u001b[1;32m     36\u001b[0m \u001b[38;5;28;01melse\u001b[39;00m:\n\u001b[1;32m     37\u001b[0m     augmented_trace_fn \u001b[38;5;241m=\u001b[39m _trace_has_converged(trace_fn, tf\u001b[38;5;241m.\u001b[39mreduce_all)\n\u001b[0;32m---> 39\u001b[0m trace \u001b[38;5;241m=\u001b[39m \u001b[43mfit_surrogate_posterior\u001b[49m\u001b[43m(\u001b[49m\n\u001b[1;32m     40\u001b[0m \u001b[43m    \u001b[49m\u001b[43mmodel\u001b[49m\u001b[38;5;241;43m.\u001b[39;49m\u001b[43munnormalized_log_prob\u001b[49m\u001b[43m,\u001b[49m\n\u001b[1;32m     41\u001b[0m \u001b[43m    \u001b[49m\u001b[43mapproximation\u001b[49m\u001b[43m,\u001b[49m\n\u001b[1;32m     42\u001b[0m \u001b[43m    \u001b[49m\u001b[43moptimizer\u001b[49m\u001b[43m,\u001b[49m\n\u001b[1;32m     43\u001b[0m \u001b[43m    \u001b[49m\u001b[43mnum_steps\u001b[49m\u001b[43m,\u001b[49m\n\u001b[1;32m     44\u001b[0m \u001b[43m    \u001b[49m\u001b[43mconvergence_criterion\u001b[49m\u001b[38;5;241;43m=\u001b[39;49m\u001b[43mconvergence_criterion\u001b[49m\u001b[43m,\u001b[49m\n\u001b[1;32m     45\u001b[0m \u001b[43m    \u001b[49m\u001b[43mtrace_fn\u001b[49m\u001b[38;5;241;43m=\u001b[39;49m\u001b[43maugmented_trace_fn\u001b[49m\u001b[43m,\u001b[49m\n\u001b[1;32m     46\u001b[0m \u001b[43m    \u001b[49m\u001b[38;5;241;43m*\u001b[39;49m\u001b[38;5;241;43m*\u001b[39;49m\u001b[43mvi_kwargs\u001b[49m\u001b[43m,\u001b[49m\n\u001b[1;32m     47\u001b[0m \u001b[43m\u001b[49m\u001b[43m)\u001b[49m\n\u001b[1;32m     49\u001b[0m \u001b[38;5;28;01mif\u001b[39;00m return_full_length_trace:\n\u001b[1;32m     50\u001b[0m     opt_res \u001b[38;5;241m=\u001b[39m trace\n",
      "File \u001b[0;32m~/miniconda3/envs/bito/lib/python3.10/site-packages/tensorflow/python/util/deprecation.py:548\u001b[0m, in \u001b[0;36mdeprecated_args.<locals>.deprecated_wrapper.<locals>.new_func\u001b[0;34m(*args, **kwargs)\u001b[0m\n\u001b[1;32m    540\u001b[0m         _PRINTED_WARNING[(func, arg_name)] \u001b[38;5;241m=\u001b[39m \u001b[38;5;28;01mTrue\u001b[39;00m\n\u001b[1;32m    541\u001b[0m       logging\u001b[38;5;241m.\u001b[39mwarning(\n\u001b[1;32m    542\u001b[0m           \u001b[38;5;124m'\u001b[39m\u001b[38;5;124mFrom \u001b[39m\u001b[38;5;132;01m%s\u001b[39;00m\u001b[38;5;124m: calling \u001b[39m\u001b[38;5;132;01m%s\u001b[39;00m\u001b[38;5;124m (from \u001b[39m\u001b[38;5;132;01m%s\u001b[39;00m\u001b[38;5;124m) with \u001b[39m\u001b[38;5;132;01m%s\u001b[39;00m\u001b[38;5;124m is deprecated and will \u001b[39m\u001b[38;5;124m'\u001b[39m\n\u001b[1;32m    543\u001b[0m           \u001b[38;5;124m'\u001b[39m\u001b[38;5;124mbe removed \u001b[39m\u001b[38;5;132;01m%s\u001b[39;00m\u001b[38;5;124m.\u001b[39m\u001b[38;5;130;01m\\n\u001b[39;00m\u001b[38;5;124mInstructions for updating:\u001b[39m\u001b[38;5;130;01m\\n\u001b[39;00m\u001b[38;5;132;01m%s\u001b[39;00m\u001b[38;5;124m'\u001b[39m,\n\u001b[0;32m   (...)\u001b[0m\n\u001b[1;32m    546\u001b[0m           \u001b[38;5;124m'\u001b[39m\u001b[38;5;124min a future version\u001b[39m\u001b[38;5;124m'\u001b[39m \u001b[38;5;28;01mif\u001b[39;00m date \u001b[38;5;129;01mis\u001b[39;00m \u001b[38;5;28;01mNone\u001b[39;00m \u001b[38;5;28;01melse\u001b[39;00m (\u001b[38;5;124m'\u001b[39m\u001b[38;5;124mafter \u001b[39m\u001b[38;5;132;01m%s\u001b[39;00m\u001b[38;5;124m'\u001b[39m \u001b[38;5;241m%\u001b[39m date),\n\u001b[1;32m    547\u001b[0m           instructions)\n\u001b[0;32m--> 548\u001b[0m \u001b[38;5;28;01mreturn\u001b[39;00m \u001b[43mfunc\u001b[49m\u001b[43m(\u001b[49m\u001b[38;5;241;43m*\u001b[39;49m\u001b[43margs\u001b[49m\u001b[43m,\u001b[49m\u001b[43m \u001b[49m\u001b[38;5;241;43m*\u001b[39;49m\u001b[38;5;241;43m*\u001b[39;49m\u001b[43mkwargs\u001b[49m\u001b[43m)\u001b[49m\n",
      "File \u001b[0;32m~/miniconda3/envs/bito/lib/python3.10/site-packages/tensorflow_probability/python/vi/optimization.py:751\u001b[0m, in \u001b[0;36mfit_surrogate_posterior\u001b[0;34m(target_log_prob_fn, surrogate_posterior, optimizer, num_steps, convergence_criterion, trace_fn, variational_loss_fn, discrepancy_fn, sample_size, importance_sample_size, trainable_variables, jit_compile, seed, name)\u001b[0m\n\u001b[1;32m    744\u001b[0m \u001b[38;5;28;01mdef\u001b[39;00m \u001b[38;5;21mcomplete_variational_loss_fn\u001b[39m(seed\u001b[38;5;241m=\u001b[39m\u001b[38;5;28;01mNone\u001b[39;00m):\n\u001b[1;32m    745\u001b[0m   \u001b[38;5;28;01mreturn\u001b[39;00m variational_loss_fn(\n\u001b[1;32m    746\u001b[0m       target_log_prob_fn,\n\u001b[1;32m    747\u001b[0m       surrogate_posterior,\n\u001b[1;32m    748\u001b[0m       sample_size\u001b[38;5;241m=\u001b[39msample_size,\n\u001b[1;32m    749\u001b[0m       seed\u001b[38;5;241m=\u001b[39mseed)\n\u001b[0;32m--> 751\u001b[0m \u001b[38;5;28;01mreturn\u001b[39;00m \u001b[43mtfp_math\u001b[49m\u001b[38;5;241;43m.\u001b[39;49m\u001b[43mminimize\u001b[49m\u001b[43m(\u001b[49m\u001b[43mcomplete_variational_loss_fn\u001b[49m\u001b[43m,\u001b[49m\n\u001b[1;32m    752\u001b[0m \u001b[43m                         \u001b[49m\u001b[43mnum_steps\u001b[49m\u001b[38;5;241;43m=\u001b[39;49m\u001b[43mnum_steps\u001b[49m\u001b[43m,\u001b[49m\n\u001b[1;32m    753\u001b[0m \u001b[43m                         \u001b[49m\u001b[43moptimizer\u001b[49m\u001b[38;5;241;43m=\u001b[39;49m\u001b[43moptimizer\u001b[49m\u001b[43m,\u001b[49m\n\u001b[1;32m    754\u001b[0m \u001b[43m                         \u001b[49m\u001b[43mconvergence_criterion\u001b[49m\u001b[38;5;241;43m=\u001b[39;49m\u001b[43mconvergence_criterion\u001b[49m\u001b[43m,\u001b[49m\n\u001b[1;32m    755\u001b[0m \u001b[43m                         \u001b[49m\u001b[43mtrace_fn\u001b[49m\u001b[38;5;241;43m=\u001b[39;49m\u001b[43mtrace_fn\u001b[49m\u001b[43m,\u001b[49m\n\u001b[1;32m    756\u001b[0m \u001b[43m                         \u001b[49m\u001b[43mtrainable_variables\u001b[49m\u001b[38;5;241;43m=\u001b[39;49m\u001b[43mtrainable_variables\u001b[49m\u001b[43m,\u001b[49m\n\u001b[1;32m    757\u001b[0m \u001b[43m                         \u001b[49m\u001b[43mjit_compile\u001b[49m\u001b[38;5;241;43m=\u001b[39;49m\u001b[43mjit_compile\u001b[49m\u001b[43m,\u001b[49m\n\u001b[1;32m    758\u001b[0m \u001b[43m                         \u001b[49m\u001b[43mseed\u001b[49m\u001b[38;5;241;43m=\u001b[39;49m\u001b[43mseed\u001b[49m\u001b[43m,\u001b[49m\n\u001b[1;32m    759\u001b[0m \u001b[43m                         \u001b[49m\u001b[43mname\u001b[49m\u001b[38;5;241;43m=\u001b[39;49m\u001b[43mname\u001b[49m\u001b[43m)\u001b[49m\n",
      "File \u001b[0;32m~/miniconda3/envs/bito/lib/python3.10/site-packages/tensorflow_probability/python/math/minimize.py:606\u001b[0m, in \u001b[0;36mminimize\u001b[0;34m(loss_fn, num_steps, optimizer, convergence_criterion, batch_convergence_reduce_fn, trainable_variables, trace_fn, return_full_length_trace, jit_compile, seed, name)\u001b[0m\n\u001b[1;32m    438\u001b[0m \u001b[38;5;28;01mdef\u001b[39;00m \u001b[38;5;21mminimize\u001b[39m(loss_fn,\n\u001b[1;32m    439\u001b[0m              num_steps,\n\u001b[1;32m    440\u001b[0m              optimizer,\n\u001b[0;32m   (...)\u001b[0m\n\u001b[1;32m    447\u001b[0m              seed\u001b[38;5;241m=\u001b[39m\u001b[38;5;28;01mNone\u001b[39;00m,\n\u001b[1;32m    448\u001b[0m              name\u001b[38;5;241m=\u001b[39m\u001b[38;5;124m'\u001b[39m\u001b[38;5;124mminimize\u001b[39m\u001b[38;5;124m'\u001b[39m):\n\u001b[1;32m    449\u001b[0m   \u001b[38;5;124;03m\"\"\"Minimize a loss function using a provided optimizer.\u001b[39;00m\n\u001b[1;32m    450\u001b[0m \n\u001b[1;32m    451\u001b[0m \u001b[38;5;124;03m  Args:\u001b[39;00m\n\u001b[0;32m   (...)\u001b[0m\n\u001b[1;32m    604\u001b[0m \n\u001b[1;32m    605\u001b[0m \u001b[38;5;124;03m  \"\"\"\u001b[39;00m\n\u001b[0;32m--> 606\u001b[0m   _, traced_values \u001b[38;5;241m=\u001b[39m \u001b[43m_minimize_common\u001b[49m\u001b[43m(\u001b[49m\n\u001b[1;32m    607\u001b[0m \u001b[43m      \u001b[49m\u001b[43mnum_steps\u001b[49m\u001b[38;5;241;43m=\u001b[39;49m\u001b[43mnum_steps\u001b[49m\u001b[43m,\u001b[49m\n\u001b[1;32m    608\u001b[0m \u001b[43m      \u001b[49m\u001b[43moptimizer_step_fn\u001b[49m\u001b[38;5;241;43m=\u001b[39;49m\u001b[43m_make_stateful_optimizer_step_fn\u001b[49m\u001b[43m(\u001b[49m\n\u001b[1;32m    609\u001b[0m \u001b[43m          \u001b[49m\u001b[43mloss_fn\u001b[49m\u001b[38;5;241;43m=\u001b[39;49m\u001b[43mloss_fn\u001b[49m\u001b[43m,\u001b[49m\n\u001b[1;32m    610\u001b[0m \u001b[43m          \u001b[49m\u001b[43moptimizer\u001b[49m\u001b[38;5;241;43m=\u001b[39;49m\u001b[43moptimizer\u001b[49m\u001b[43m,\u001b[49m\n\u001b[1;32m    611\u001b[0m \u001b[43m          \u001b[49m\u001b[43mtrainable_variables\u001b[49m\u001b[38;5;241;43m=\u001b[39;49m\u001b[43mtrainable_variables\u001b[49m\u001b[43m)\u001b[49m\u001b[43m,\u001b[49m\n\u001b[1;32m    612\u001b[0m \u001b[43m      \u001b[49m\u001b[43minitial_parameters\u001b[49m\u001b[38;5;241;43m=\u001b[39;49m\u001b[43m(\u001b[49m\u001b[43m)\u001b[49m\u001b[43m,\u001b[49m\n\u001b[1;32m    613\u001b[0m \u001b[43m      \u001b[49m\u001b[43minitial_optimizer_state\u001b[49m\u001b[38;5;241;43m=\u001b[39;49m\u001b[43m(\u001b[49m\u001b[43m)\u001b[49m\u001b[43m,\u001b[49m\n\u001b[1;32m    614\u001b[0m \u001b[43m      \u001b[49m\u001b[43mconvergence_criterion\u001b[49m\u001b[38;5;241;43m=\u001b[39;49m\u001b[43mconvergence_criterion\u001b[49m\u001b[43m,\u001b[49m\n\u001b[1;32m    615\u001b[0m \u001b[43m      \u001b[49m\u001b[43mbatch_convergence_reduce_fn\u001b[49m\u001b[38;5;241;43m=\u001b[39;49m\u001b[43mbatch_convergence_reduce_fn\u001b[49m\u001b[43m,\u001b[49m\n\u001b[1;32m    616\u001b[0m \u001b[43m      \u001b[49m\u001b[43mtrace_fn\u001b[49m\u001b[38;5;241;43m=\u001b[39;49m\u001b[43mtrace_fn\u001b[49m\u001b[43m,\u001b[49m\n\u001b[1;32m    617\u001b[0m \u001b[43m      \u001b[49m\u001b[43mreturn_full_length_trace\u001b[49m\u001b[38;5;241;43m=\u001b[39;49m\u001b[43mreturn_full_length_trace\u001b[49m\u001b[43m,\u001b[49m\n\u001b[1;32m    618\u001b[0m \u001b[43m      \u001b[49m\u001b[43mjit_compile\u001b[49m\u001b[38;5;241;43m=\u001b[39;49m\u001b[43mjit_compile\u001b[49m\u001b[43m,\u001b[49m\n\u001b[1;32m    619\u001b[0m \u001b[43m      \u001b[49m\u001b[43mseed\u001b[49m\u001b[38;5;241;43m=\u001b[39;49m\u001b[43mseed\u001b[49m\u001b[43m,\u001b[49m\n\u001b[1;32m    620\u001b[0m \u001b[43m      \u001b[49m\u001b[43mname\u001b[49m\u001b[38;5;241;43m=\u001b[39;49m\u001b[43mname\u001b[49m\u001b[43m)\u001b[49m\n\u001b[1;32m    621\u001b[0m   \u001b[38;5;28;01mreturn\u001b[39;00m traced_values\n",
      "File \u001b[0;32m~/miniconda3/envs/bito/lib/python3.10/site-packages/tensorflow_probability/python/math/minimize.py:194\u001b[0m, in \u001b[0;36m_minimize_common\u001b[0;34m(num_steps, optimizer_step_fn, initial_parameters, initial_optimizer_state, convergence_criterion, batch_convergence_reduce_fn, trace_fn, return_full_length_trace, jit_compile, seed, name)\u001b[0m\n\u001b[1;32m    188\u001b[0m   traced_values \u001b[38;5;241m=\u001b[39m tf\u001b[38;5;241m.\u001b[39mnest\u001b[38;5;241m.\u001b[39mmap_structure(\n\u001b[1;32m    189\u001b[0m       \u001b[38;5;28;01mlambda\u001b[39;00m t0, t: tf\u001b[38;5;241m.\u001b[39mconcat([t0, t], axis\u001b[38;5;241m=\u001b[39m\u001b[38;5;241m0\u001b[39m),\n\u001b[1;32m    190\u001b[0m       initial_traced_values,\n\u001b[1;32m    191\u001b[0m       loop_traced_values)\n\u001b[1;32m    192\u001b[0m   \u001b[38;5;28;01mreturn\u001b[39;00m final_step_traceable_values\u001b[38;5;241m.\u001b[39mparameters, traced_values\n\u001b[0;32m--> 194\u001b[0m final_parameters, traced_values \u001b[38;5;241m=\u001b[39m \u001b[43mps\u001b[49m\u001b[38;5;241;43m.\u001b[39;49m\u001b[43mcond\u001b[49m\u001b[43m(\u001b[49m\n\u001b[1;32m    195\u001b[0m \u001b[43m    \u001b[49m\u001b[43mnum_steps\u001b[49m\u001b[43m \u001b[49m\u001b[38;5;241;43m>\u001b[39;49m\u001b[43m \u001b[49m\u001b[38;5;241;43m1\u001b[39;49m\u001b[43m,\u001b[49m\n\u001b[1;32m    196\u001b[0m \u001b[43m    \u001b[49m\u001b[43mrun_optimization_loop\u001b[49m\u001b[43m,\u001b[49m\n\u001b[1;32m    197\u001b[0m \u001b[43m    \u001b[49m\u001b[38;5;28;43;01mlambda\u001b[39;49;00m\u001b[43m:\u001b[49m\u001b[43m \u001b[49m\u001b[43m(\u001b[49m\u001b[43minitial_parameters\u001b[49m\u001b[43m,\u001b[49m\u001b[43m \u001b[49m\u001b[43minitial_traced_values\u001b[49m\u001b[43m)\u001b[49m\u001b[43m)\u001b[49m\n\u001b[1;32m    199\u001b[0m \u001b[38;5;28;01mif\u001b[39;00m \u001b[38;5;129;01mnot\u001b[39;00m return_full_length_trace:\n\u001b[1;32m    200\u001b[0m   traced_values \u001b[38;5;241m=\u001b[39m _truncate_at_has_converged(traced_values)\n",
      "File \u001b[0;32m~/miniconda3/envs/bito/lib/python3.10/site-packages/tensorflow_probability/python/internal/prefer_static.py:260\u001b[0m, in \u001b[0;36mcond\u001b[0;34m(pred, true_fn, false_fn, name)\u001b[0m\n\u001b[1;32m    258\u001b[0m \u001b[38;5;28;01mif\u001b[39;00m pred_value \u001b[38;5;129;01mis\u001b[39;00m \u001b[38;5;129;01mnot\u001b[39;00m \u001b[38;5;28;01mNone\u001b[39;00m:\n\u001b[1;32m    259\u001b[0m   \u001b[38;5;28;01mif\u001b[39;00m pred_value:\n\u001b[0;32m--> 260\u001b[0m     \u001b[38;5;28;01mreturn\u001b[39;00m \u001b[43mtrue_fn\u001b[49m\u001b[43m(\u001b[49m\u001b[43m)\u001b[49m\n\u001b[1;32m    261\u001b[0m   \u001b[38;5;28;01melse\u001b[39;00m:\n\u001b[1;32m    262\u001b[0m     \u001b[38;5;28;01mreturn\u001b[39;00m false_fn()\n",
      "File \u001b[0;32m~/miniconda3/envs/bito/lib/python3.10/site-packages/tensorflow_probability/python/math/minimize.py:179\u001b[0m, in \u001b[0;36m_minimize_common.<locals>.run_optimization_loop\u001b[0;34m()\u001b[0m\n\u001b[1;32m    178\u001b[0m \u001b[38;5;28;01mdef\u001b[39;00m \u001b[38;5;21mrun_optimization_loop\u001b[39m():\n\u001b[0;32m--> 179\u001b[0m   final_step_traceable_values, loop_traced_values \u001b[38;5;241m=\u001b[39m \u001b[43mloop_util\u001b[49m\u001b[38;5;241;43m.\u001b[39;49m\u001b[43mtrace_scan\u001b[49m\u001b[43m(\u001b[49m\n\u001b[1;32m    180\u001b[0m \u001b[43m      \u001b[49m\u001b[43mloop_fn\u001b[49m\u001b[38;5;241;43m=\u001b[39;49m\u001b[43m_make_training_loop_body\u001b[49m\u001b[43m(\u001b[49m\n\u001b[1;32m    181\u001b[0m \u001b[43m          \u001b[49m\u001b[43moptimizer_step_fn\u001b[49m\u001b[38;5;241;43m=\u001b[39;49m\u001b[43moptimizer_step_fn\u001b[49m\u001b[43m,\u001b[49m\n\u001b[1;32m    182\u001b[0m \u001b[43m          \u001b[49m\u001b[43mconvergence_criterion\u001b[49m\u001b[38;5;241;43m=\u001b[39;49m\u001b[43mconvergence_criterion\u001b[49m\u001b[43m,\u001b[49m\n\u001b[1;32m    183\u001b[0m \u001b[43m          \u001b[49m\u001b[43mbatch_convergence_reduce_fn\u001b[49m\u001b[38;5;241;43m=\u001b[39;49m\u001b[43mbatch_convergence_reduce_fn\u001b[49m\u001b[43m,\u001b[49m\n\u001b[1;32m    184\u001b[0m \u001b[43m          \u001b[49m\u001b[43mseed_is_none\u001b[49m\u001b[38;5;241;43m=\u001b[39;49m\u001b[43mseed_is_none\u001b[49m\u001b[43m)\u001b[49m\u001b[43m,\u001b[49m\n\u001b[1;32m    185\u001b[0m \u001b[43m      \u001b[49m\u001b[43minitial_state\u001b[49m\u001b[38;5;241;43m=\u001b[39;49m\u001b[43minitial_state\u001b[49m\u001b[43m,\u001b[49m\n\u001b[1;32m    186\u001b[0m \u001b[43m      \u001b[49m\u001b[43melems\u001b[49m\u001b[38;5;241;43m=\u001b[39;49m\u001b[43mtf\u001b[49m\u001b[38;5;241;43m.\u001b[39;49m\u001b[43mrange\u001b[49m\u001b[43m(\u001b[49m\u001b[38;5;241;43m1\u001b[39;49m\u001b[43m,\u001b[49m\u001b[43m \u001b[49m\u001b[43mnum_steps\u001b[49m\u001b[43m)\u001b[49m\u001b[43m,\u001b[49m\n\u001b[1;32m    187\u001b[0m \u001b[43m      \u001b[49m\u001b[43mtrace_fn\u001b[49m\u001b[38;5;241;43m=\u001b[39;49m\u001b[43mtrace_fn\u001b[49m\u001b[43m)\u001b[49m\n\u001b[1;32m    188\u001b[0m   traced_values \u001b[38;5;241m=\u001b[39m tf\u001b[38;5;241m.\u001b[39mnest\u001b[38;5;241m.\u001b[39mmap_structure(\n\u001b[1;32m    189\u001b[0m       \u001b[38;5;28;01mlambda\u001b[39;00m t0, t: tf\u001b[38;5;241m.\u001b[39mconcat([t0, t], axis\u001b[38;5;241m=\u001b[39m\u001b[38;5;241m0\u001b[39m),\n\u001b[1;32m    190\u001b[0m       initial_traced_values,\n\u001b[1;32m    191\u001b[0m       loop_traced_values)\n\u001b[1;32m    192\u001b[0m   \u001b[38;5;28;01mreturn\u001b[39;00m final_step_traceable_values\u001b[38;5;241m.\u001b[39mparameters, traced_values\n",
      "File \u001b[0;32m~/miniconda3/envs/bito/lib/python3.10/site-packages/tensorflow_probability/python/internal/loop_util.py:214\u001b[0m, in \u001b[0;36mtrace_scan\u001b[0;34m(loop_fn, initial_state, elems, trace_fn, trace_criterion_fn, static_trace_allocation_size, condition_fn, parallel_iterations, name)\u001b[0m\n\u001b[1;32m    206\u001b[0m   trace_arrays, num_steps_traced \u001b[38;5;241m=\u001b[39m ps\u001b[38;5;241m.\u001b[39mcond(\n\u001b[1;32m    207\u001b[0m       trace_criterion_fn(state) \u001b[38;5;28;01mif\u001b[39;00m trace_criterion_fn \u001b[38;5;28;01melse\u001b[39;00m \u001b[38;5;28;01mTrue\u001b[39;00m,\n\u001b[1;32m    208\u001b[0m       \u001b[38;5;28;01mlambda\u001b[39;00m: (trace_one_step(num_steps_traced, trace_arrays, state),  \u001b[38;5;66;03m# pylint: disable=g-long-lambda\u001b[39;00m\n\u001b[1;32m    209\u001b[0m                num_steps_traced \u001b[38;5;241m+\u001b[39m \u001b[38;5;241m1\u001b[39m),\n\u001b[1;32m    210\u001b[0m       \u001b[38;5;28;01mlambda\u001b[39;00m: (trace_arrays, num_steps_traced))\n\u001b[1;32m    212\u001b[0m   \u001b[38;5;28;01mreturn\u001b[39;00m i \u001b[38;5;241m+\u001b[39m \u001b[38;5;241m1\u001b[39m, state, num_steps_traced, trace_arrays\n\u001b[0;32m--> 214\u001b[0m _, final_state, _, trace_arrays \u001b[38;5;241m=\u001b[39m \u001b[43mtf\u001b[49m\u001b[38;5;241;43m.\u001b[39;49m\u001b[43mwhile_loop\u001b[49m\u001b[43m(\u001b[49m\n\u001b[1;32m    215\u001b[0m \u001b[43m    \u001b[49m\u001b[43mcond\u001b[49m\u001b[38;5;241;43m=\u001b[39;49m\u001b[43mcondition_fn\u001b[49m\u001b[43m \u001b[49m\u001b[38;5;28;43;01mif\u001b[39;49;00m\u001b[43m \u001b[49m\u001b[43mcondition_fn\u001b[49m\u001b[43m \u001b[49m\u001b[38;5;129;43;01mis\u001b[39;49;00m\u001b[43m \u001b[49m\u001b[38;5;129;43;01mnot\u001b[39;49;00m\u001b[43m \u001b[49m\u001b[38;5;28;43;01mNone\u001b[39;49;00m\u001b[43m \u001b[49m\u001b[38;5;28;43;01melse\u001b[39;49;00m\u001b[43m \u001b[49m\u001b[38;5;28;43;01mlambda\u001b[39;49;00m\u001b[43m \u001b[49m\u001b[38;5;241;43m*\u001b[39;49m\u001b[43m_\u001b[49m\u001b[43m:\u001b[49m\u001b[43m \u001b[49m\u001b[38;5;28;43;01mTrue\u001b[39;49;00m\u001b[43m,\u001b[49m\n\u001b[1;32m    216\u001b[0m \u001b[43m    \u001b[49m\u001b[43mbody\u001b[49m\u001b[38;5;241;43m=\u001b[39;49m\u001b[43m_body\u001b[49m\u001b[43m,\u001b[49m\n\u001b[1;32m    217\u001b[0m \u001b[43m    \u001b[49m\u001b[43mloop_vars\u001b[49m\u001b[38;5;241;43m=\u001b[39;49m\u001b[43m(\u001b[49m\u001b[38;5;241;43m0\u001b[39;49m\u001b[43m,\u001b[49m\u001b[43m \u001b[49m\u001b[43minitial_state\u001b[49m\u001b[43m,\u001b[49m\u001b[43m \u001b[49m\u001b[38;5;241;43m0\u001b[39;49m\u001b[43m,\u001b[49m\u001b[43m \u001b[49m\u001b[43mtrace_arrays\u001b[49m\u001b[43m)\u001b[49m\u001b[43m,\u001b[49m\n\u001b[1;32m    218\u001b[0m \u001b[43m    \u001b[49m\u001b[43mmaximum_iterations\u001b[49m\u001b[38;5;241;43m=\u001b[39;49m\u001b[43mlength\u001b[49m\u001b[43m,\u001b[49m\n\u001b[1;32m    219\u001b[0m \u001b[43m    \u001b[49m\u001b[43mparallel_iterations\u001b[49m\u001b[38;5;241;43m=\u001b[39;49m\u001b[43mparallel_iterations\u001b[49m\u001b[43m)\u001b[49m\n\u001b[1;32m    221\u001b[0m \u001b[38;5;66;03m# unflatten\u001b[39;00m\n\u001b[1;32m    222\u001b[0m stacked_trace \u001b[38;5;241m=\u001b[39m tf\u001b[38;5;241m.\u001b[39mnest\u001b[38;5;241m.\u001b[39mpack_sequence_as(\n\u001b[1;32m    223\u001b[0m     initial_trace, [ta\u001b[38;5;241m.\u001b[39mstack() \u001b[38;5;28;01mfor\u001b[39;00m ta \u001b[38;5;129;01min\u001b[39;00m trace_arrays],\n\u001b[1;32m    224\u001b[0m     expand_composites\u001b[38;5;241m=\u001b[39m\u001b[38;5;28;01mTrue\u001b[39;00m)\n",
      "File \u001b[0;32m~/miniconda3/envs/bito/lib/python3.10/site-packages/tensorflow/python/util/deprecation.py:616\u001b[0m, in \u001b[0;36mdeprecated_arg_values.<locals>.deprecated_wrapper.<locals>.new_func\u001b[0;34m(*args, **kwargs)\u001b[0m\n\u001b[1;32m    609\u001b[0m           _PRINTED_WARNING[(func, arg_name)] \u001b[38;5;241m=\u001b[39m \u001b[38;5;28;01mTrue\u001b[39;00m\n\u001b[1;32m    610\u001b[0m         logging\u001b[38;5;241m.\u001b[39mwarning(\n\u001b[1;32m    611\u001b[0m             \u001b[38;5;124m'\u001b[39m\u001b[38;5;124mFrom \u001b[39m\u001b[38;5;132;01m%s\u001b[39;00m\u001b[38;5;124m: calling \u001b[39m\u001b[38;5;132;01m%s\u001b[39;00m\u001b[38;5;124m (from \u001b[39m\u001b[38;5;132;01m%s\u001b[39;00m\u001b[38;5;124m) with \u001b[39m\u001b[38;5;132;01m%s\u001b[39;00m\u001b[38;5;124m=\u001b[39m\u001b[38;5;132;01m%s\u001b[39;00m\u001b[38;5;124m is deprecated and \u001b[39m\u001b[38;5;124m'\u001b[39m\n\u001b[1;32m    612\u001b[0m             \u001b[38;5;124m'\u001b[39m\u001b[38;5;124mwill be removed \u001b[39m\u001b[38;5;132;01m%s\u001b[39;00m\u001b[38;5;124m.\u001b[39m\u001b[38;5;130;01m\\n\u001b[39;00m\u001b[38;5;124mInstructions for updating:\u001b[39m\u001b[38;5;130;01m\\n\u001b[39;00m\u001b[38;5;132;01m%s\u001b[39;00m\u001b[38;5;124m'\u001b[39m,\n\u001b[1;32m    613\u001b[0m             _call_location(), decorator_utils\u001b[38;5;241m.\u001b[39mget_qualified_name(func),\n\u001b[1;32m    614\u001b[0m             func\u001b[38;5;241m.\u001b[39m\u001b[38;5;18m__module__\u001b[39m, arg_name, arg_value, \u001b[38;5;124m'\u001b[39m\u001b[38;5;124min a future version\u001b[39m\u001b[38;5;124m'\u001b[39m\n\u001b[1;32m    615\u001b[0m             \u001b[38;5;28;01mif\u001b[39;00m date \u001b[38;5;129;01mis\u001b[39;00m \u001b[38;5;28;01mNone\u001b[39;00m \u001b[38;5;28;01melse\u001b[39;00m (\u001b[38;5;124m'\u001b[39m\u001b[38;5;124mafter \u001b[39m\u001b[38;5;132;01m%s\u001b[39;00m\u001b[38;5;124m'\u001b[39m \u001b[38;5;241m%\u001b[39m date), instructions)\n\u001b[0;32m--> 616\u001b[0m \u001b[38;5;28;01mreturn\u001b[39;00m \u001b[43mfunc\u001b[49m\u001b[43m(\u001b[49m\u001b[38;5;241;43m*\u001b[39;49m\u001b[43margs\u001b[49m\u001b[43m,\u001b[49m\u001b[43m \u001b[49m\u001b[38;5;241;43m*\u001b[39;49m\u001b[38;5;241;43m*\u001b[39;49m\u001b[43mkwargs\u001b[49m\u001b[43m)\u001b[49m\n",
      "File \u001b[0;32m~/miniconda3/envs/bito/lib/python3.10/site-packages/tensorflow/python/ops/control_flow_ops.py:2548\u001b[0m, in \u001b[0;36mwhile_loop_v2\u001b[0;34m(cond, body, loop_vars, shape_invariants, parallel_iterations, back_prop, swap_memory, maximum_iterations, name)\u001b[0m\n\u001b[1;32m   2372\u001b[0m \u001b[38;5;129m@tf_export\u001b[39m(\u001b[38;5;124m\"\u001b[39m\u001b[38;5;124mwhile_loop\u001b[39m\u001b[38;5;124m\"\u001b[39m, v1\u001b[38;5;241m=\u001b[39m[])\n\u001b[1;32m   2373\u001b[0m \u001b[38;5;129m@deprecation\u001b[39m\u001b[38;5;241m.\u001b[39mdeprecated_arg_values(\n\u001b[1;32m   2374\u001b[0m     \u001b[38;5;28;01mNone\u001b[39;00m,\n\u001b[0;32m   (...)\u001b[0m\n\u001b[1;32m   2389\u001b[0m                   maximum_iterations\u001b[38;5;241m=\u001b[39m\u001b[38;5;28;01mNone\u001b[39;00m,\n\u001b[1;32m   2390\u001b[0m                   name\u001b[38;5;241m=\u001b[39m\u001b[38;5;28;01mNone\u001b[39;00m):\n\u001b[1;32m   2391\u001b[0m   \u001b[38;5;124;03m\"\"\"Repeat `body` while the condition `cond` is true.\u001b[39;00m\n\u001b[1;32m   2392\u001b[0m \n\u001b[1;32m   2393\u001b[0m \u001b[38;5;124;03m  `cond` is a callable returning a boolean scalar tensor. `body` is a callable\u001b[39;00m\n\u001b[0;32m   (...)\u001b[0m\n\u001b[1;32m   2546\u001b[0m \n\u001b[1;32m   2547\u001b[0m \u001b[38;5;124;03m  \"\"\"\u001b[39;00m\n\u001b[0;32m-> 2548\u001b[0m   \u001b[38;5;28;01mreturn\u001b[39;00m \u001b[43mwhile_loop\u001b[49m\u001b[43m(\u001b[49m\n\u001b[1;32m   2549\u001b[0m \u001b[43m      \u001b[49m\u001b[43mcond\u001b[49m\u001b[38;5;241;43m=\u001b[39;49m\u001b[43mcond\u001b[49m\u001b[43m,\u001b[49m\n\u001b[1;32m   2550\u001b[0m \u001b[43m      \u001b[49m\u001b[43mbody\u001b[49m\u001b[38;5;241;43m=\u001b[39;49m\u001b[43mbody\u001b[49m\u001b[43m,\u001b[49m\n\u001b[1;32m   2551\u001b[0m \u001b[43m      \u001b[49m\u001b[43mloop_vars\u001b[49m\u001b[38;5;241;43m=\u001b[39;49m\u001b[43mloop_vars\u001b[49m\u001b[43m,\u001b[49m\n\u001b[1;32m   2552\u001b[0m \u001b[43m      \u001b[49m\u001b[43mshape_invariants\u001b[49m\u001b[38;5;241;43m=\u001b[39;49m\u001b[43mshape_invariants\u001b[49m\u001b[43m,\u001b[49m\n\u001b[1;32m   2553\u001b[0m \u001b[43m      \u001b[49m\u001b[43mparallel_iterations\u001b[49m\u001b[38;5;241;43m=\u001b[39;49m\u001b[43mparallel_iterations\u001b[49m\u001b[43m,\u001b[49m\n\u001b[1;32m   2554\u001b[0m \u001b[43m      \u001b[49m\u001b[43mback_prop\u001b[49m\u001b[38;5;241;43m=\u001b[39;49m\u001b[43mback_prop\u001b[49m\u001b[43m,\u001b[49m\n\u001b[1;32m   2555\u001b[0m \u001b[43m      \u001b[49m\u001b[43mswap_memory\u001b[49m\u001b[38;5;241;43m=\u001b[39;49m\u001b[43mswap_memory\u001b[49m\u001b[43m,\u001b[49m\n\u001b[1;32m   2556\u001b[0m \u001b[43m      \u001b[49m\u001b[43mname\u001b[49m\u001b[38;5;241;43m=\u001b[39;49m\u001b[43mname\u001b[49m\u001b[43m,\u001b[49m\n\u001b[1;32m   2557\u001b[0m \u001b[43m      \u001b[49m\u001b[43mmaximum_iterations\u001b[49m\u001b[38;5;241;43m=\u001b[39;49m\u001b[43mmaximum_iterations\u001b[49m\u001b[43m,\u001b[49m\n\u001b[1;32m   2558\u001b[0m \u001b[43m      \u001b[49m\u001b[43mreturn_same_structure\u001b[49m\u001b[38;5;241;43m=\u001b[39;49m\u001b[38;5;28;43;01mTrue\u001b[39;49;00m\u001b[43m)\u001b[49m\n",
      "File \u001b[0;32m~/miniconda3/envs/bito/lib/python3.10/site-packages/tensorflow/python/ops/control_flow_ops.py:2795\u001b[0m, in \u001b[0;36mwhile_loop\u001b[0;34m(cond, body, loop_vars, shape_invariants, parallel_iterations, back_prop, swap_memory, name, maximum_iterations, return_same_structure)\u001b[0m\n\u001b[1;32m   2792\u001b[0m loop_var_structure \u001b[38;5;241m=\u001b[39m nest\u001b[38;5;241m.\u001b[39mmap_structure(type_spec\u001b[38;5;241m.\u001b[39mtype_spec_from_value,\n\u001b[1;32m   2793\u001b[0m                                         \u001b[38;5;28mlist\u001b[39m(loop_vars))\n\u001b[1;32m   2794\u001b[0m \u001b[38;5;28;01mwhile\u001b[39;00m cond(\u001b[38;5;241m*\u001b[39mloop_vars):\n\u001b[0;32m-> 2795\u001b[0m   loop_vars \u001b[38;5;241m=\u001b[39m \u001b[43mbody\u001b[49m\u001b[43m(\u001b[49m\u001b[38;5;241;43m*\u001b[39;49m\u001b[43mloop_vars\u001b[49m\u001b[43m)\u001b[49m\n\u001b[1;32m   2796\u001b[0m   \u001b[38;5;28;01mif\u001b[39;00m try_to_pack \u001b[38;5;129;01mand\u001b[39;00m \u001b[38;5;129;01mnot\u001b[39;00m \u001b[38;5;28misinstance\u001b[39m(loop_vars, (\u001b[38;5;28mlist\u001b[39m, _basetuple)):\n\u001b[1;32m   2797\u001b[0m     packed \u001b[38;5;241m=\u001b[39m \u001b[38;5;28;01mTrue\u001b[39;00m\n",
      "File \u001b[0;32m~/miniconda3/envs/bito/lib/python3.10/site-packages/tensorflow/python/ops/control_flow_ops.py:2786\u001b[0m, in \u001b[0;36mwhile_loop.<locals>.<lambda>\u001b[0;34m(i, lv)\u001b[0m\n\u001b[1;32m   2783\u001b[0m     loop_vars \u001b[38;5;241m=\u001b[39m (counter, loop_vars)\n\u001b[1;32m   2784\u001b[0m     cond \u001b[38;5;241m=\u001b[39m \u001b[38;5;28;01mlambda\u001b[39;00m i, lv: (  \u001b[38;5;66;03m# pylint: disable=g-long-lambda\u001b[39;00m\n\u001b[1;32m   2785\u001b[0m         math_ops\u001b[38;5;241m.\u001b[39mlogical_and(i \u001b[38;5;241m<\u001b[39m maximum_iterations, orig_cond(\u001b[38;5;241m*\u001b[39mlv)))\n\u001b[0;32m-> 2786\u001b[0m     body \u001b[38;5;241m=\u001b[39m \u001b[38;5;28;01mlambda\u001b[39;00m i, lv: (i \u001b[38;5;241m+\u001b[39m \u001b[38;5;241m1\u001b[39m, \u001b[43morig_body\u001b[49m\u001b[43m(\u001b[49m\u001b[38;5;241;43m*\u001b[39;49m\u001b[43mlv\u001b[49m\u001b[43m)\u001b[49m)\n\u001b[1;32m   2787\u001b[0m   try_to_pack \u001b[38;5;241m=\u001b[39m \u001b[38;5;28;01mFalse\u001b[39;00m\n\u001b[1;32m   2789\u001b[0m \u001b[38;5;28;01mif\u001b[39;00m executing_eagerly:\n",
      "File \u001b[0;32m~/miniconda3/envs/bito/lib/python3.10/site-packages/tensorflow_probability/python/internal/loop_util.py:204\u001b[0m, in \u001b[0;36mtrace_scan.<locals>._body\u001b[0;34m(i, state, num_steps_traced, trace_arrays)\u001b[0m\n\u001b[1;32m    202\u001b[0m \u001b[38;5;28;01mdef\u001b[39;00m \u001b[38;5;21m_body\u001b[39m(i, state, num_steps_traced, trace_arrays):\n\u001b[1;32m    203\u001b[0m   elem \u001b[38;5;241m=\u001b[39m elems_array\u001b[38;5;241m.\u001b[39mread(i)\n\u001b[0;32m--> 204\u001b[0m   state \u001b[38;5;241m=\u001b[39m \u001b[43mloop_fn\u001b[49m\u001b[43m(\u001b[49m\u001b[43mstate\u001b[49m\u001b[43m,\u001b[49m\u001b[43m \u001b[49m\u001b[43melem\u001b[49m\u001b[43m)\u001b[49m\n\u001b[1;32m    206\u001b[0m   trace_arrays, num_steps_traced \u001b[38;5;241m=\u001b[39m ps\u001b[38;5;241m.\u001b[39mcond(\n\u001b[1;32m    207\u001b[0m       trace_criterion_fn(state) \u001b[38;5;28;01mif\u001b[39;00m trace_criterion_fn \u001b[38;5;28;01melse\u001b[39;00m \u001b[38;5;28;01mTrue\u001b[39;00m,\n\u001b[1;32m    208\u001b[0m       \u001b[38;5;28;01mlambda\u001b[39;00m: (trace_one_step(num_steps_traced, trace_arrays, state),  \u001b[38;5;66;03m# pylint: disable=g-long-lambda\u001b[39;00m\n\u001b[1;32m    209\u001b[0m                num_steps_traced \u001b[38;5;241m+\u001b[39m \u001b[38;5;241m1\u001b[39m),\n\u001b[1;32m    210\u001b[0m       \u001b[38;5;28;01mlambda\u001b[39;00m: (trace_arrays, num_steps_traced))\n\u001b[1;32m    212\u001b[0m   \u001b[38;5;28;01mreturn\u001b[39;00m i \u001b[38;5;241m+\u001b[39m \u001b[38;5;241m1\u001b[39m, state, num_steps_traced, trace_arrays\n",
      "File \u001b[0;32m~/miniconda3/envs/bito/lib/python3.10/site-packages/tensorflow_probability/python/math/minimize.py:106\u001b[0m, in \u001b[0;36m_make_training_loop_body.<locals>.training_loop_body\u001b[0;34m(previous_traced_values, step)\u001b[0m\n\u001b[1;32m    105\u001b[0m \u001b[38;5;28;01mdef\u001b[39;00m \u001b[38;5;21mtraining_loop_body\u001b[39m(previous_traced_values, step):\n\u001b[0;32m--> 106\u001b[0m   \u001b[38;5;28;01mreturn\u001b[39;00m \u001b[43mps\u001b[49m\u001b[38;5;241;43m.\u001b[39;49m\u001b[43mcond\u001b[49m\u001b[43m(\u001b[49m\n\u001b[1;32m    107\u001b[0m \u001b[43m      \u001b[49m\u001b[43mbatch_convergence_reduce_fn\u001b[49m\u001b[43m(\u001b[49m\u001b[43mprevious_traced_values\u001b[49m\u001b[38;5;241;43m.\u001b[39;49m\u001b[43mhas_converged\u001b[49m\u001b[43m)\u001b[49m\u001b[43m,\u001b[49m\n\u001b[1;32m    108\u001b[0m \u001b[43m      \u001b[49m\u001b[38;5;28;43;01mlambda\u001b[39;49;00m\u001b[43m:\u001b[49m\u001b[43m \u001b[49m\u001b[43mprevious_traced_values\u001b[49m\u001b[43m,\u001b[49m\n\u001b[1;32m    109\u001b[0m \u001b[43m      \u001b[49m\u001b[38;5;28;43;01mlambda\u001b[39;49;00m\u001b[43m:\u001b[49m\u001b[43m \u001b[49m\u001b[43munconverged_training_loop_body\u001b[49m\u001b[43m(\u001b[49m\u001b[43mprevious_traced_values\u001b[49m\u001b[43m,\u001b[49m\u001b[43m \u001b[49m\u001b[43mstep\u001b[49m\u001b[43m)\u001b[49m\u001b[43m)\u001b[49m\n",
      "File \u001b[0;32m~/miniconda3/envs/bito/lib/python3.10/site-packages/tensorflow_probability/python/internal/prefer_static.py:262\u001b[0m, in \u001b[0;36mcond\u001b[0;34m(pred, true_fn, false_fn, name)\u001b[0m\n\u001b[1;32m    260\u001b[0m     \u001b[38;5;28;01mreturn\u001b[39;00m true_fn()\n\u001b[1;32m    261\u001b[0m   \u001b[38;5;28;01melse\u001b[39;00m:\n\u001b[0;32m--> 262\u001b[0m     \u001b[38;5;28;01mreturn\u001b[39;00m \u001b[43mfalse_fn\u001b[49m\u001b[43m(\u001b[49m\u001b[43m)\u001b[49m\n\u001b[1;32m    263\u001b[0m \u001b[38;5;28;01melse\u001b[39;00m:\n\u001b[1;32m    264\u001b[0m   \u001b[38;5;28;01mreturn\u001b[39;00m tf\u001b[38;5;241m.\u001b[39mcond(pred\u001b[38;5;241m=\u001b[39mpred, true_fn\u001b[38;5;241m=\u001b[39mtrue_fn, false_fn\u001b[38;5;241m=\u001b[39mfalse_fn, name\u001b[38;5;241m=\u001b[39mname)\n",
      "File \u001b[0;32m~/miniconda3/envs/bito/lib/python3.10/site-packages/tensorflow_probability/python/math/minimize.py:109\u001b[0m, in \u001b[0;36m_make_training_loop_body.<locals>.training_loop_body.<locals>.<lambda>\u001b[0;34m()\u001b[0m\n\u001b[1;32m    105\u001b[0m \u001b[38;5;28;01mdef\u001b[39;00m \u001b[38;5;21mtraining_loop_body\u001b[39m(previous_traced_values, step):\n\u001b[1;32m    106\u001b[0m   \u001b[38;5;28;01mreturn\u001b[39;00m ps\u001b[38;5;241m.\u001b[39mcond(\n\u001b[1;32m    107\u001b[0m       batch_convergence_reduce_fn(previous_traced_values\u001b[38;5;241m.\u001b[39mhas_converged),\n\u001b[1;32m    108\u001b[0m       \u001b[38;5;28;01mlambda\u001b[39;00m: previous_traced_values,\n\u001b[0;32m--> 109\u001b[0m       \u001b[38;5;28;01mlambda\u001b[39;00m: \u001b[43munconverged_training_loop_body\u001b[49m\u001b[43m(\u001b[49m\u001b[43mprevious_traced_values\u001b[49m\u001b[43m,\u001b[49m\u001b[43m \u001b[49m\u001b[43mstep\u001b[49m\u001b[43m)\u001b[49m)\n",
      "File \u001b[0;32m~/miniconda3/envs/bito/lib/python3.10/site-packages/tensorflow_probability/python/math/minimize.py:86\u001b[0m, in \u001b[0;36m_make_training_loop_body.<locals>.unconverged_training_loop_body\u001b[0;34m(previous, step)\u001b[0m\n\u001b[1;32m     84\u001b[0m \u001b[38;5;28;01melse\u001b[39;00m:\n\u001b[1;32m     85\u001b[0m   seed, next_seed \u001b[38;5;241m=\u001b[39m samplers\u001b[38;5;241m.\u001b[39msplit_seed(previous\u001b[38;5;241m.\u001b[39mseed, n\u001b[38;5;241m=\u001b[39m\u001b[38;5;241m2\u001b[39m)\n\u001b[0;32m---> 86\u001b[0m loss, grads, parameters, optimizer_state \u001b[38;5;241m=\u001b[39m \u001b[43moptimizer_step_fn\u001b[49m\u001b[43m(\u001b[49m\n\u001b[1;32m     87\u001b[0m \u001b[43m    \u001b[49m\u001b[43mprevious\u001b[49m\u001b[38;5;241;43m.\u001b[39;49m\u001b[43mparameters\u001b[49m\u001b[43m,\u001b[49m\u001b[43m \u001b[49m\u001b[43mprevious\u001b[49m\u001b[38;5;241;43m.\u001b[39;49m\u001b[43moptimizer_state\u001b[49m\u001b[43m,\u001b[49m\u001b[43m \u001b[49m\u001b[43mseed\u001b[49m\u001b[38;5;241;43m=\u001b[39;49m\u001b[43mseed\u001b[49m\u001b[43m)\u001b[49m\n\u001b[1;32m     88\u001b[0m \u001b[38;5;28;01mif\u001b[39;00m convergence_criterion \u001b[38;5;129;01mis\u001b[39;00m \u001b[38;5;28;01mNone\u001b[39;00m:\n\u001b[1;32m     89\u001b[0m   has_converged \u001b[38;5;241m=\u001b[39m previous\u001b[38;5;241m.\u001b[39mhas_converged\n",
      "File \u001b[0;32m~/miniconda3/envs/bito/lib/python3.10/site-packages/tensorflow/python/util/traceback_utils.py:150\u001b[0m, in \u001b[0;36mfilter_traceback.<locals>.error_handler\u001b[0;34m(*args, **kwargs)\u001b[0m\n\u001b[1;32m    148\u001b[0m filtered_tb \u001b[38;5;241m=\u001b[39m \u001b[38;5;28;01mNone\u001b[39;00m\n\u001b[1;32m    149\u001b[0m \u001b[38;5;28;01mtry\u001b[39;00m:\n\u001b[0;32m--> 150\u001b[0m   \u001b[38;5;28;01mreturn\u001b[39;00m \u001b[43mfn\u001b[49m\u001b[43m(\u001b[49m\u001b[38;5;241;43m*\u001b[39;49m\u001b[43margs\u001b[49m\u001b[43m,\u001b[49m\u001b[43m \u001b[49m\u001b[38;5;241;43m*\u001b[39;49m\u001b[38;5;241;43m*\u001b[39;49m\u001b[43mkwargs\u001b[49m\u001b[43m)\u001b[49m\n\u001b[1;32m    151\u001b[0m \u001b[38;5;28;01mexcept\u001b[39;00m \u001b[38;5;167;01mException\u001b[39;00m \u001b[38;5;28;01mas\u001b[39;00m e:\n\u001b[1;32m    152\u001b[0m   filtered_tb \u001b[38;5;241m=\u001b[39m _process_traceback_frames(e\u001b[38;5;241m.\u001b[39m__traceback__)\n",
      "File \u001b[0;32m~/miniconda3/envs/bito/lib/python3.10/site-packages/tensorflow/python/eager/def_function.py:915\u001b[0m, in \u001b[0;36mFunction.__call__\u001b[0;34m(self, *args, **kwds)\u001b[0m\n\u001b[1;32m    912\u001b[0m compiler \u001b[38;5;241m=\u001b[39m \u001b[38;5;124m\"\u001b[39m\u001b[38;5;124mxla\u001b[39m\u001b[38;5;124m\"\u001b[39m \u001b[38;5;28;01mif\u001b[39;00m \u001b[38;5;28mself\u001b[39m\u001b[38;5;241m.\u001b[39m_jit_compile \u001b[38;5;28;01melse\u001b[39;00m \u001b[38;5;124m\"\u001b[39m\u001b[38;5;124mnonXla\u001b[39m\u001b[38;5;124m\"\u001b[39m\n\u001b[1;32m    914\u001b[0m \u001b[38;5;28;01mwith\u001b[39;00m OptionalXlaContext(\u001b[38;5;28mself\u001b[39m\u001b[38;5;241m.\u001b[39m_jit_compile):\n\u001b[0;32m--> 915\u001b[0m   result \u001b[38;5;241m=\u001b[39m \u001b[38;5;28;43mself\u001b[39;49m\u001b[38;5;241;43m.\u001b[39;49m\u001b[43m_call\u001b[49m\u001b[43m(\u001b[49m\u001b[38;5;241;43m*\u001b[39;49m\u001b[43margs\u001b[49m\u001b[43m,\u001b[49m\u001b[43m \u001b[49m\u001b[38;5;241;43m*\u001b[39;49m\u001b[38;5;241;43m*\u001b[39;49m\u001b[43mkwds\u001b[49m\u001b[43m)\u001b[49m\n\u001b[1;32m    917\u001b[0m new_tracing_count \u001b[38;5;241m=\u001b[39m \u001b[38;5;28mself\u001b[39m\u001b[38;5;241m.\u001b[39mexperimental_get_tracing_count()\n\u001b[1;32m    918\u001b[0m without_tracing \u001b[38;5;241m=\u001b[39m (tracing_count \u001b[38;5;241m==\u001b[39m new_tracing_count)\n",
      "File \u001b[0;32m~/miniconda3/envs/bito/lib/python3.10/site-packages/tensorflow/python/eager/def_function.py:947\u001b[0m, in \u001b[0;36mFunction._call\u001b[0;34m(self, *args, **kwds)\u001b[0m\n\u001b[1;32m    944\u001b[0m   \u001b[38;5;28mself\u001b[39m\u001b[38;5;241m.\u001b[39m_lock\u001b[38;5;241m.\u001b[39mrelease()\n\u001b[1;32m    945\u001b[0m   \u001b[38;5;66;03m# In this case we have created variables on the first call, so we run the\u001b[39;00m\n\u001b[1;32m    946\u001b[0m   \u001b[38;5;66;03m# defunned version which is guaranteed to never create variables.\u001b[39;00m\n\u001b[0;32m--> 947\u001b[0m   \u001b[38;5;28;01mreturn\u001b[39;00m \u001b[38;5;28;43mself\u001b[39;49m\u001b[38;5;241;43m.\u001b[39;49m\u001b[43m_stateless_fn\u001b[49m\u001b[43m(\u001b[49m\u001b[38;5;241;43m*\u001b[39;49m\u001b[43margs\u001b[49m\u001b[43m,\u001b[49m\u001b[43m \u001b[49m\u001b[38;5;241;43m*\u001b[39;49m\u001b[38;5;241;43m*\u001b[39;49m\u001b[43mkwds\u001b[49m\u001b[43m)\u001b[49m  \u001b[38;5;66;03m# pylint: disable=not-callable\u001b[39;00m\n\u001b[1;32m    948\u001b[0m \u001b[38;5;28;01melif\u001b[39;00m \u001b[38;5;28mself\u001b[39m\u001b[38;5;241m.\u001b[39m_stateful_fn \u001b[38;5;129;01mis\u001b[39;00m \u001b[38;5;129;01mnot\u001b[39;00m \u001b[38;5;28;01mNone\u001b[39;00m:\n\u001b[1;32m    949\u001b[0m   \u001b[38;5;66;03m# Release the lock early so that multiple threads can perform the call\u001b[39;00m\n\u001b[1;32m    950\u001b[0m   \u001b[38;5;66;03m# in parallel.\u001b[39;00m\n\u001b[1;32m    951\u001b[0m   \u001b[38;5;28mself\u001b[39m\u001b[38;5;241m.\u001b[39m_lock\u001b[38;5;241m.\u001b[39mrelease()\n",
      "File \u001b[0;32m~/miniconda3/envs/bito/lib/python3.10/site-packages/tensorflow/python/eager/function.py:2956\u001b[0m, in \u001b[0;36mFunction.__call__\u001b[0;34m(self, *args, **kwargs)\u001b[0m\n\u001b[1;32m   2953\u001b[0m \u001b[38;5;28;01mwith\u001b[39;00m \u001b[38;5;28mself\u001b[39m\u001b[38;5;241m.\u001b[39m_lock:\n\u001b[1;32m   2954\u001b[0m   (graph_function,\n\u001b[1;32m   2955\u001b[0m    filtered_flat_args) \u001b[38;5;241m=\u001b[39m \u001b[38;5;28mself\u001b[39m\u001b[38;5;241m.\u001b[39m_maybe_define_function(args, kwargs)\n\u001b[0;32m-> 2956\u001b[0m \u001b[38;5;28;01mreturn\u001b[39;00m \u001b[43mgraph_function\u001b[49m\u001b[38;5;241;43m.\u001b[39;49m\u001b[43m_call_flat\u001b[49m\u001b[43m(\u001b[49m\n\u001b[1;32m   2957\u001b[0m \u001b[43m    \u001b[49m\u001b[43mfiltered_flat_args\u001b[49m\u001b[43m,\u001b[49m\u001b[43m \u001b[49m\u001b[43mcaptured_inputs\u001b[49m\u001b[38;5;241;43m=\u001b[39;49m\u001b[43mgraph_function\u001b[49m\u001b[38;5;241;43m.\u001b[39;49m\u001b[43mcaptured_inputs\u001b[49m\u001b[43m)\u001b[49m\n",
      "File \u001b[0;32m~/miniconda3/envs/bito/lib/python3.10/site-packages/tensorflow/python/eager/function.py:1853\u001b[0m, in \u001b[0;36mConcreteFunction._call_flat\u001b[0;34m(self, args, captured_inputs, cancellation_manager)\u001b[0m\n\u001b[1;32m   1849\u001b[0m possible_gradient_type \u001b[38;5;241m=\u001b[39m gradients_util\u001b[38;5;241m.\u001b[39mPossibleTapeGradientTypes(args)\n\u001b[1;32m   1850\u001b[0m \u001b[38;5;28;01mif\u001b[39;00m (possible_gradient_type \u001b[38;5;241m==\u001b[39m gradients_util\u001b[38;5;241m.\u001b[39mPOSSIBLE_GRADIENT_TYPES_NONE\n\u001b[1;32m   1851\u001b[0m     \u001b[38;5;129;01mand\u001b[39;00m executing_eagerly):\n\u001b[1;32m   1852\u001b[0m   \u001b[38;5;66;03m# No tape is watching; skip to running the function.\u001b[39;00m\n\u001b[0;32m-> 1853\u001b[0m   \u001b[38;5;28;01mreturn\u001b[39;00m \u001b[38;5;28mself\u001b[39m\u001b[38;5;241m.\u001b[39m_build_call_outputs(\u001b[38;5;28;43mself\u001b[39;49m\u001b[38;5;241;43m.\u001b[39;49m\u001b[43m_inference_function\u001b[49m\u001b[38;5;241;43m.\u001b[39;49m\u001b[43mcall\u001b[49m\u001b[43m(\u001b[49m\n\u001b[1;32m   1854\u001b[0m \u001b[43m      \u001b[49m\u001b[43mctx\u001b[49m\u001b[43m,\u001b[49m\u001b[43m \u001b[49m\u001b[43margs\u001b[49m\u001b[43m,\u001b[49m\u001b[43m \u001b[49m\u001b[43mcancellation_manager\u001b[49m\u001b[38;5;241;43m=\u001b[39;49m\u001b[43mcancellation_manager\u001b[49m\u001b[43m)\u001b[49m)\n\u001b[1;32m   1855\u001b[0m forward_backward \u001b[38;5;241m=\u001b[39m \u001b[38;5;28mself\u001b[39m\u001b[38;5;241m.\u001b[39m_select_forward_and_backward_functions(\n\u001b[1;32m   1856\u001b[0m     args,\n\u001b[1;32m   1857\u001b[0m     possible_gradient_type,\n\u001b[1;32m   1858\u001b[0m     executing_eagerly)\n\u001b[1;32m   1859\u001b[0m forward_function, args_with_tangents \u001b[38;5;241m=\u001b[39m forward_backward\u001b[38;5;241m.\u001b[39mforward()\n",
      "File \u001b[0;32m~/miniconda3/envs/bito/lib/python3.10/site-packages/tensorflow/python/eager/function.py:499\u001b[0m, in \u001b[0;36m_EagerDefinedFunction.call\u001b[0;34m(self, ctx, args, cancellation_manager)\u001b[0m\n\u001b[1;32m    497\u001b[0m \u001b[38;5;28;01mwith\u001b[39;00m _InterpolateFunctionError(\u001b[38;5;28mself\u001b[39m):\n\u001b[1;32m    498\u001b[0m   \u001b[38;5;28;01mif\u001b[39;00m cancellation_manager \u001b[38;5;129;01mis\u001b[39;00m \u001b[38;5;28;01mNone\u001b[39;00m:\n\u001b[0;32m--> 499\u001b[0m     outputs \u001b[38;5;241m=\u001b[39m \u001b[43mexecute\u001b[49m\u001b[38;5;241;43m.\u001b[39;49m\u001b[43mexecute\u001b[49m\u001b[43m(\u001b[49m\n\u001b[1;32m    500\u001b[0m \u001b[43m        \u001b[49m\u001b[38;5;28;43mstr\u001b[39;49m\u001b[43m(\u001b[49m\u001b[38;5;28;43mself\u001b[39;49m\u001b[38;5;241;43m.\u001b[39;49m\u001b[43msignature\u001b[49m\u001b[38;5;241;43m.\u001b[39;49m\u001b[43mname\u001b[49m\u001b[43m)\u001b[49m\u001b[43m,\u001b[49m\n\u001b[1;32m    501\u001b[0m \u001b[43m        \u001b[49m\u001b[43mnum_outputs\u001b[49m\u001b[38;5;241;43m=\u001b[39;49m\u001b[38;5;28;43mself\u001b[39;49m\u001b[38;5;241;43m.\u001b[39;49m\u001b[43m_num_outputs\u001b[49m\u001b[43m,\u001b[49m\n\u001b[1;32m    502\u001b[0m \u001b[43m        \u001b[49m\u001b[43minputs\u001b[49m\u001b[38;5;241;43m=\u001b[39;49m\u001b[43margs\u001b[49m\u001b[43m,\u001b[49m\n\u001b[1;32m    503\u001b[0m \u001b[43m        \u001b[49m\u001b[43mattrs\u001b[49m\u001b[38;5;241;43m=\u001b[39;49m\u001b[43mattrs\u001b[49m\u001b[43m,\u001b[49m\n\u001b[1;32m    504\u001b[0m \u001b[43m        \u001b[49m\u001b[43mctx\u001b[49m\u001b[38;5;241;43m=\u001b[39;49m\u001b[43mctx\u001b[49m\u001b[43m)\u001b[49m\n\u001b[1;32m    505\u001b[0m   \u001b[38;5;28;01melse\u001b[39;00m:\n\u001b[1;32m    506\u001b[0m     outputs \u001b[38;5;241m=\u001b[39m execute\u001b[38;5;241m.\u001b[39mexecute_with_cancellation(\n\u001b[1;32m    507\u001b[0m         \u001b[38;5;28mstr\u001b[39m(\u001b[38;5;28mself\u001b[39m\u001b[38;5;241m.\u001b[39msignature\u001b[38;5;241m.\u001b[39mname),\n\u001b[1;32m    508\u001b[0m         num_outputs\u001b[38;5;241m=\u001b[39m\u001b[38;5;28mself\u001b[39m\u001b[38;5;241m.\u001b[39m_num_outputs,\n\u001b[0;32m   (...)\u001b[0m\n\u001b[1;32m    511\u001b[0m         ctx\u001b[38;5;241m=\u001b[39mctx,\n\u001b[1;32m    512\u001b[0m         cancellation_manager\u001b[38;5;241m=\u001b[39mcancellation_manager)\n",
      "File \u001b[0;32m~/miniconda3/envs/bito/lib/python3.10/site-packages/tensorflow/python/eager/execute.py:54\u001b[0m, in \u001b[0;36mquick_execute\u001b[0;34m(op_name, num_outputs, inputs, attrs, ctx, name)\u001b[0m\n\u001b[1;32m     52\u001b[0m \u001b[38;5;28;01mtry\u001b[39;00m:\n\u001b[1;32m     53\u001b[0m   ctx\u001b[38;5;241m.\u001b[39mensure_initialized()\n\u001b[0;32m---> 54\u001b[0m   tensors \u001b[38;5;241m=\u001b[39m \u001b[43mpywrap_tfe\u001b[49m\u001b[38;5;241;43m.\u001b[39;49m\u001b[43mTFE_Py_Execute\u001b[49m\u001b[43m(\u001b[49m\u001b[43mctx\u001b[49m\u001b[38;5;241;43m.\u001b[39;49m\u001b[43m_handle\u001b[49m\u001b[43m,\u001b[49m\u001b[43m \u001b[49m\u001b[43mdevice_name\u001b[49m\u001b[43m,\u001b[49m\u001b[43m \u001b[49m\u001b[43mop_name\u001b[49m\u001b[43m,\u001b[49m\n\u001b[1;32m     55\u001b[0m \u001b[43m                                      \u001b[49m\u001b[43minputs\u001b[49m\u001b[43m,\u001b[49m\u001b[43m \u001b[49m\u001b[43mattrs\u001b[49m\u001b[43m,\u001b[49m\u001b[43m \u001b[49m\u001b[43mnum_outputs\u001b[49m\u001b[43m)\u001b[49m\n\u001b[1;32m     56\u001b[0m \u001b[38;5;28;01mexcept\u001b[39;00m core\u001b[38;5;241m.\u001b[39m_NotOkStatusException \u001b[38;5;28;01mas\u001b[39;00m e:\n\u001b[1;32m     57\u001b[0m   \u001b[38;5;28;01mif\u001b[39;00m name \u001b[38;5;129;01mis\u001b[39;00m \u001b[38;5;129;01mnot\u001b[39;00m \u001b[38;5;28;01mNone\u001b[39;00m:\n",
      "\u001b[0;31mKeyboardInterrupt\u001b[0m: "
     ]
    }
   ],
   "source": [
    "%%time\n",
    "alt_approx, alt_loss = fit_fixed_topology_variational_approximation(\n",
    "    alt_model_pinned,\n",
    "    topologies=dict(tree=tree.topology),\n",
    "    optimizer=optimizer,\n",
    "    num_steps=num_steps,\n",
    "    trace_fn= lambda x: x.loss\n",
    ")\n",
    "plt.plot(alt_loss)"
   ]
  },
  {
   "cell_type": "code",
   "execution_count": 13,
   "id": "a0e8e455",
   "metadata": {},
   "outputs": [
    {
     "ename": "NameError",
     "evalue": "name 'alt_approx' is not defined",
     "output_type": "error",
     "traceback": [
      "\u001b[0;31m---------------------------------------------------------------------------\u001b[0m",
      "\u001b[0;31mNameError\u001b[0m                                 Traceback (most recent call last)",
      "Input \u001b[0;32mIn [13]\u001b[0m, in \u001b[0;36m<cell line: 1>\u001b[0;34m()\u001b[0m\n\u001b[0;32m----> 1\u001b[0m alt_samples \u001b[38;5;241m=\u001b[39m \u001b[43malt_approx\u001b[49m\u001b[38;5;241m.\u001b[39msample(n_samples)\n\u001b[1;32m      2\u001b[0m plt\u001b[38;5;241m.\u001b[39mhist(alt_samples[\u001b[38;5;124m\"\u001b[39m\u001b[38;5;124mtree\u001b[39m\u001b[38;5;124m\"\u001b[39m]\u001b[38;5;241m.\u001b[39mnode_heights[:, \u001b[38;5;241m-\u001b[39m\u001b[38;5;241m1\u001b[39m]\u001b[38;5;241m.\u001b[39mnumpy(), bins\u001b[38;5;241m=\u001b[39m\u001b[38;5;241m50\u001b[39m)\n",
      "\u001b[0;31mNameError\u001b[0m: name 'alt_approx' is not defined"
     ]
    }
   ],
   "source": [
    "alt_samples = alt_approx.sample(n_samples)\n",
    "plt.hist(alt_samples[\"tree\"].node_heights[:, -1].numpy(), bins=50);"
   ]
  },
  {
   "cell_type": "code",
   "execution_count": null,
   "id": "45f2e3f9",
   "metadata": {},
   "outputs": [],
   "source": [
    "alt_out_samples = dict(alt_samples)\n",
    "alt_tree_samples = alt_out_samples.pop(\"tree\")\n",
    "write_tensor_trees(\n",
    "    \"demo-data/carnivores.newick\",\n",
    "    alt_tree_samples.branch_lengths,\n",
    "    \"demo-out/carnivores-alt-trees.nexus\",\n",
    "    branch_metadata=dict(kappa=alt_out_samples[\"kappa\"])\n",
    ")\n",
    "write_samples_to_file(\n",
    "    alt_samples, alt_model_pinned, \"demo-out/carnivores-alt-samples.csv\", vars=alt_out_samples.keys()\n",
    ")"
   ]
  },
  {
   "cell_type": "code",
   "execution_count": null,
   "id": "ad6fcd2a",
   "metadata": {},
   "outputs": [],
   "source": [
    "[tf.reduce_mean(x[-100:]) for x in [base_loss, alt_loss]]"
   ]
  },
  {
   "cell_type": "code",
   "execution_count": null,
   "id": "a87e34c1",
   "metadata": {},
   "outputs": [],
   "source": [
    "from treeflow.vi import estimate_log_ml_importance_sampling\n",
    "\n",
    "ml_n_samples = 100\n",
    "base_ml_result = estimate_log_ml_importance_sampling(base_model_pinned, base_approx, vectorize_log_prob=False, n_samples=ml_n_samples)\n",
    "alt_ml_result = estimate_log_ml_importance_sampling(alt_model_pinned, alt_approx, vectorize_log_prob=False, n_samples=ml_n_samples)\n",
    "\n",
    "dict(\n",
    "    base=base_ml_result.numpy(),\n",
    "    lineage_variation=alt_ml_result.numpy()\n",
    ")"
   ]
  },
  {
   "cell_type": "code",
   "execution_count": null,
   "id": "60183d1a",
   "metadata": {},
   "outputs": [],
   "source": [
    "import joypy\n",
    "import numpy as np\n",
    "import pandas as pd\n",
    "\n",
    "kappa_df = pd.DataFrame(alt_samples[\"kappa\"].numpy())\n",
    "n_columns = 20\n",
    "columns = np.random.choice(kappa_df.columns, n_columns, replace=False)\n",
    "joypy.joyplot(kappa_df[columns]);"
   ]
  },
  {
   "cell_type": "markdown",
   "id": "acb40e6b",
   "metadata": {},
   "source": [
    "## Results visualisation\n"
   ]
  },
  {
   "cell_type": "markdown",
   "id": "24735a0a",
   "metadata": {},
   "source": [
    "* Use existing tree viz tools"
   ]
  }
 ],
 "metadata": {
  "kernelspec": {
   "display_name": "Python 3 (ipykernel)",
   "language": "python",
   "name": "python3"
  },
  "language_info": {
   "codemirror_mode": {
    "name": "ipython",
    "version": 3
   },
   "file_extension": ".py",
   "mimetype": "text/x-python",
   "name": "python",
   "nbconvert_exporter": "python",
   "pygments_lexer": "ipython3",
   "version": "3.10.2"
  }
 },
 "nbformat": 4,
 "nbformat_minor": 5
}
